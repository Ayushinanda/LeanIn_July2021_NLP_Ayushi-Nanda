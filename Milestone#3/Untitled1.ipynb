{
  "nbformat": 4,
  "nbformat_minor": 0,
  "metadata": {
    "colab": {
      "name": "Untitled1.ipynb",
      "provenance": [],
      "collapsed_sections": []
    },
    "kernelspec": {
      "name": "python3",
      "display_name": "Python 3"
    },
    "language_info": {
      "name": "python"
    }
  },
  "cells": [
    {
      "cell_type": "markdown",
      "metadata": {
        "id": "ccfqA_2JEr3s"
      },
      "source": [
        "# DOWNLOAD THE TEXT CORPUS\n",
        "\n"
      ]
    },
    {
      "cell_type": "code",
      "metadata": {
        "id": "Oi0uK9ZNY4QW",
        "colab": {
          "base_uri": "https://localhost:8080/"
        },
        "outputId": "58044cc5-0021-4ff9-e445-5e575ec5c4ad"
      },
      "source": [
        "!wget http://mattmahoney.net/dc/text8.zip -O text8.gz\n",
        "!gzip -d text8.gz -f"
      ],
      "execution_count": 25,
      "outputs": [
        {
          "output_type": "stream",
          "text": [
            "--2021-08-18 19:53:08--  http://mattmahoney.net/dc/text8.zip\n",
            "Resolving mattmahoney.net (mattmahoney.net)... 67.195.197.24\n",
            "Connecting to mattmahoney.net (mattmahoney.net)|67.195.197.24|:80... connected.\n",
            "HTTP request sent, awaiting response... 200 OK\n",
            "Length: 31344016 (30M) [application/zip]\n",
            "Saving to: ‘text8.gz’\n",
            "\n",
            "text8.gz            100%[===================>]  29.89M   724KB/s    in 43s     \n",
            "\n",
            "2021-08-18 19:53:52 (710 KB/s) - ‘text8.gz’ saved [31344016/31344016]\n",
            "\n"
          ],
          "name": "stdout"
        }
      ]
    },
    {
      "cell_type": "markdown",
      "metadata": {
        "id": "kacB6IF1mw5_"
      },
      "source": [
        "# Train word2vec"
      ]
    },
    {
      "cell_type": "code",
      "metadata": {
        "colab": {
          "base_uri": "https://localhost:8080/"
        },
        "id": "4xdGpoAdoZtb",
        "outputId": "2782d0df-9f9e-4e03-f5a1-0cf66f4f2586"
      },
      "source": [
        "!pip install gensim"
      ],
      "execution_count": null,
      "outputs": [
        {
          "output_type": "stream",
          "text": [
            "Requirement already satisfied: gensim in /usr/local/lib/python3.7/dist-packages (3.6.0)\n",
            "Requirement already satisfied: scipy>=0.18.1 in /usr/local/lib/python3.7/dist-packages (from gensim) (1.4.1)\n",
            "Requirement already satisfied: numpy>=1.11.3 in /usr/local/lib/python3.7/dist-packages (from gensim) (1.19.5)\n",
            "Requirement already satisfied: six>=1.5.0 in /usr/local/lib/python3.7/dist-packages (from gensim) (1.15.0)\n",
            "Requirement already satisfied: smart-open>=1.2.1 in /usr/local/lib/python3.7/dist-packages (from gensim) (5.1.0)\n"
          ],
          "name": "stdout"
        }
      ]
    },
    {
      "cell_type": "code",
      "metadata": {
        "id": "Z3VD-dWkotxj"
      },
      "source": [
        "from gensim import utils\n",
        "\n",
        "with open('/content/text8','r') as file:\n",
        "  documents = file.readlines()\n",
        "\n",
        "class MyCorpus(object):\n",
        "    def __iter__(self): \n",
        "        for line in documents:\n",
        "            yield utils.simple_preprocess(line)"
      ],
      "execution_count": null,
      "outputs": []
    },
    {
      "cell_type": "code",
      "metadata": {
        "id": "OOiCzlPfoyrH"
      },
      "source": [
        "import gensim.models\n",
        "sentences = MyCorpus()\n",
        "cbow_model = gensim.models.Word2Vec(sentences=sentences,\n",
        "                                       sg = 0,               #sg=0 for cbow model \n",
        "                                       window = 25,\n",
        "                                       size=100,\n",
        "                                       min_count =3,\n",
        "                                       workers=20,\n",
        "                                       iter = 30)"
      ],
      "execution_count": 26,
      "outputs": []
    },
    {
      "cell_type": "code",
      "metadata": {
        "colab": {
          "base_uri": "https://localhost:8080/"
        },
        "id": "qzB4g9pkpjhj",
        "outputId": "90c445d1-b362-42bd-98be-eae18235b30f"
      },
      "source": [
        "len(cbow_model.wv.vocab.keys())"
      ],
      "execution_count": null,
      "outputs": [
        {
          "output_type": "execute_result",
          "data": {
            "text/plain": [
              "70965"
            ]
          },
          "metadata": {
            "tags": []
          },
          "execution_count": 9
        }
      ]
    },
    {
      "cell_type": "code",
      "metadata": {
        "colab": {
          "base_uri": "https://localhost:8080/"
        },
        "id": "fSoLWgwsrqlg",
        "outputId": "a3c484cc-9cd2-42d1-c433-f5855467901f"
      },
      "source": [
        "cbow_model.wv.get_vector('hero')"
      ],
      "execution_count": null,
      "outputs": [
        {
          "output_type": "execute_result",
          "data": {
            "text/plain": [
              "array([ 4.2342343e-03, -6.3597859e-04,  1.5177694e-03,  4.0271697e-03,\n",
              "       -1.6366059e-03, -2.1562243e-03, -1.7035489e-03,  4.2467387e-03,\n",
              "        4.3648328e-03,  4.1203238e-03,  2.4644863e-03,  4.6788380e-04,\n",
              "        1.1679186e-03,  1.5259923e-03,  2.0522736e-03,  1.5807642e-03,\n",
              "       -2.7152426e-03,  3.9157792e-04,  3.6191933e-03, -4.8470288e-03,\n",
              "        2.4328982e-03, -2.1191034e-03, -2.8845586e-03, -7.2563114e-04,\n",
              "       -2.0366893e-03,  4.1270819e-03, -3.3440476e-03, -1.1131061e-03,\n",
              "       -4.3544401e-03, -4.0144827e-03, -2.1308621e-04,  4.1074161e-03,\n",
              "        4.1855900e-03, -4.8363856e-03,  3.0531816e-03,  1.9583469e-03,\n",
              "        2.9957271e-03, -4.1747424e-03, -4.7330414e-03, -3.6663588e-04,\n",
              "       -2.6560614e-03,  4.8589646e-03,  6.5342721e-04,  4.5918198e-03,\n",
              "       -4.0629222e-03, -8.6839212e-04, -2.9804178e-03, -4.1059032e-03,\n",
              "        2.2883359e-03,  4.5952369e-03, -3.0543266e-03,  3.7165163e-03,\n",
              "        4.4759545e-03, -4.8660594e-03,  4.2628432e-03,  4.0766725e-04,\n",
              "        1.9031741e-03,  4.2064483e-03, -1.0521304e-03, -8.1825902e-04,\n",
              "       -8.5208152e-04,  7.7770842e-04, -1.2609961e-04,  4.9954611e-03,\n",
              "        1.3340057e-03,  1.5331083e-03, -6.8220112e-04, -4.2049494e-03,\n",
              "        4.4054887e-03,  9.0796134e-04, -4.4745863e-03,  1.6689546e-03,\n",
              "        4.6135332e-03, -3.9768298e-03, -5.4038363e-04,  3.3105579e-03,\n",
              "       -4.6959203e-03,  2.6495317e-03, -8.3939405e-05, -3.9623864e-03,\n",
              "       -3.7378640e-04, -7.4223714e-04,  4.0858611e-03, -2.8699790e-03,\n",
              "        8.3502207e-04,  1.5113006e-03, -3.1456889e-03, -1.8608513e-03,\n",
              "        1.3410456e-03, -8.7246468e-04,  1.2672539e-03, -4.0824669e-03,\n",
              "        3.1502142e-03,  4.4307276e-03,  3.7064340e-03, -2.2549280e-03,\n",
              "        3.4159380e-03,  2.3945179e-03, -1.1659212e-03, -1.1981357e-03],\n",
              "      dtype=float32)"
            ]
          },
          "metadata": {
            "tags": []
          },
          "execution_count": 10
        }
      ]
    },
    {
      "cell_type": "code",
      "metadata": {
        "colab": {
          "base_uri": "https://localhost:8080/"
        },
        "id": "NWxDNOjIr0a9",
        "outputId": "69067732-ff85-469f-fdff-392c4dac03df"
      },
      "source": [
        "cbow_model.wv.most_similar('hero',topn=2)"
      ],
      "execution_count": null,
      "outputs": [
        {
          "output_type": "execute_result",
          "data": {
            "text/plain": [
              "[('skated', 0.42677775025367737), ('androstenedione', 0.381356805562973)]"
            ]
          },
          "metadata": {
            "tags": []
          },
          "execution_count": 11
        }
      ]
    },
    {
      "cell_type": "markdown",
      "metadata": {
        "id": "zeRrWBAhVNsG"
      },
      "source": [
        "# **Pretrained word2vec model**\n",
        "\n",
        "*   Pretrained word2vec model is released by Google. It is trained on Google News corpus.\n",
        "*   we dont need to download here but if we are running this code on jupiter or other platform we need to download it.\n",
        "\n"
      ]
    },
    {
      "cell_type": "code",
      "metadata": {
        "colab": {
          "base_uri": "https://localhost:8080/"
        },
        "id": "i02F9aPSr6Vz",
        "outputId": "c348c7b5-154c-4354-9404-3a2a2c08221f"
      },
      "source": [
        "import gensim.downloader as api\n",
        "\n",
        "model = api.load('word2vec-google-news-300')"
      ],
      "execution_count": null,
      "outputs": [
        {
          "output_type": "stream",
          "text": [
            "[==================================================] 100.0% 1662.8/1662.8MB downloaded\n"
          ],
          "name": "stdout"
        }
      ]
    },
    {
      "cell_type": "markdown",
      "metadata": {
        "id": "kiwUqr-AeDmq"
      },
      "source": [
        "# word similarity "
      ]
    },
    {
      "cell_type": "code",
      "metadata": {
        "id": "kHkIqkOnf3IF",
        "colab": {
          "base_uri": "https://localhost:8080/"
        },
        "outputId": "03fbe2a7-37e4-49df-a827-fa8eccef516b"
      },
      "source": [
        "!pip install sklearn"
      ],
      "execution_count": 100,
      "outputs": [
        {
          "output_type": "stream",
          "text": [
            "Requirement already satisfied: sklearn in /usr/local/lib/python3.7/dist-packages (0.0)\n",
            "Requirement already satisfied: scikit-learn in /usr/local/lib/python3.7/dist-packages (from sklearn) (0.22.2.post1)\n",
            "Requirement already satisfied: joblib>=0.11 in /usr/local/lib/python3.7/dist-packages (from scikit-learn->sklearn) (1.0.1)\n",
            "Requirement already satisfied: numpy>=1.11.0 in /usr/local/lib/python3.7/dist-packages (from scikit-learn->sklearn) (1.19.5)\n",
            "Requirement already satisfied: scipy>=0.17.0 in /usr/local/lib/python3.7/dist-packages (from scikit-learn->sklearn) (1.4.1)\n"
          ],
          "name": "stdout"
        }
      ]
    },
    {
      "cell_type": "markdown",
      "metadata": {
        "id": "HllLKv1z37ue"
      },
      "source": [
        "**Importing Data**\n",
        "\n",
        "*   RSS = Reference similarity score \n",
        "\n",
        "\n"
      ]
    },
    {
      "cell_type": "code",
      "metadata": {
        "id": "aYDtimo8U_qP",
        "colab": {
          "base_uri": "https://localhost:8080/",
          "height": 363
        },
        "outputId": "b8721f3c-7f3f-44a5-e3fd-38e9cbbb3330"
      },
      "source": [
        "import pandas as pd\n",
        "import csv\n",
        "data=pd.read_csv('/content/wordsim_similarity_goldstandard.txt',sep='\\t')\n",
        "data=pd.DataFrame(data)\n",
        "data.columns=['Word1','Word2','RSS']\n",
        "data.head(10)"
      ],
      "execution_count": 54,
      "outputs": [
        {
          "output_type": "execute_result",
          "data": {
            "text/html": [
              "<div>\n",
              "<style scoped>\n",
              "    .dataframe tbody tr th:only-of-type {\n",
              "        vertical-align: middle;\n",
              "    }\n",
              "\n",
              "    .dataframe tbody tr th {\n",
              "        vertical-align: top;\n",
              "    }\n",
              "\n",
              "    .dataframe thead th {\n",
              "        text-align: right;\n",
              "    }\n",
              "</style>\n",
              "<table border=\"1\" class=\"dataframe\">\n",
              "  <thead>\n",
              "    <tr style=\"text-align: right;\">\n",
              "      <th></th>\n",
              "      <th>Word1</th>\n",
              "      <th>Word2</th>\n",
              "      <th>RSS</th>\n",
              "    </tr>\n",
              "  </thead>\n",
              "  <tbody>\n",
              "    <tr>\n",
              "      <th>0</th>\n",
              "      <td>tiger</td>\n",
              "      <td>tiger</td>\n",
              "      <td>10.00</td>\n",
              "    </tr>\n",
              "    <tr>\n",
              "      <th>1</th>\n",
              "      <td>plane</td>\n",
              "      <td>car</td>\n",
              "      <td>5.77</td>\n",
              "    </tr>\n",
              "    <tr>\n",
              "      <th>2</th>\n",
              "      <td>train</td>\n",
              "      <td>car</td>\n",
              "      <td>6.31</td>\n",
              "    </tr>\n",
              "    <tr>\n",
              "      <th>3</th>\n",
              "      <td>television</td>\n",
              "      <td>radio</td>\n",
              "      <td>6.77</td>\n",
              "    </tr>\n",
              "    <tr>\n",
              "      <th>4</th>\n",
              "      <td>media</td>\n",
              "      <td>radio</td>\n",
              "      <td>7.42</td>\n",
              "    </tr>\n",
              "    <tr>\n",
              "      <th>5</th>\n",
              "      <td>bread</td>\n",
              "      <td>butter</td>\n",
              "      <td>6.19</td>\n",
              "    </tr>\n",
              "    <tr>\n",
              "      <th>6</th>\n",
              "      <td>cucumber</td>\n",
              "      <td>potato</td>\n",
              "      <td>5.92</td>\n",
              "    </tr>\n",
              "    <tr>\n",
              "      <th>7</th>\n",
              "      <td>doctor</td>\n",
              "      <td>nurse</td>\n",
              "      <td>7.00</td>\n",
              "    </tr>\n",
              "    <tr>\n",
              "      <th>8</th>\n",
              "      <td>professor</td>\n",
              "      <td>doctor</td>\n",
              "      <td>6.62</td>\n",
              "    </tr>\n",
              "    <tr>\n",
              "      <th>9</th>\n",
              "      <td>student</td>\n",
              "      <td>professor</td>\n",
              "      <td>6.81</td>\n",
              "    </tr>\n",
              "  </tbody>\n",
              "</table>\n",
              "</div>"
            ],
            "text/plain": [
              "        Word1      Word2    RSS\n",
              "0       tiger      tiger  10.00\n",
              "1       plane        car   5.77\n",
              "2       train        car   6.31\n",
              "3  television      radio   6.77\n",
              "4       media      radio   7.42\n",
              "5       bread     butter   6.19\n",
              "6    cucumber     potato   5.92\n",
              "7      doctor      nurse   7.00\n",
              "8   professor     doctor   6.62\n",
              "9     student  professor   6.81"
            ]
          },
          "metadata": {},
          "execution_count": 54
        }
      ]
    },
    {
      "cell_type": "code",
      "metadata": {
        "colab": {
          "base_uri": "https://localhost:8080/",
          "height": 206
        },
        "id": "ExSEPHahgZhs",
        "outputId": "05eac881-1e95-4a57-98c6-06a23f02ac0b"
      },
      "source": [
        "\n",
        "from sklearn.metrics.pairwise import cosine_similarity\n",
        "#function to get similarity\n",
        "def get_word_similarity(word_1,word_2,model):\n",
        "  word_1_vector = model.get_vector(word_1)\n",
        "  word_2_vector = model.get_vector(word_2)\n",
        "  similarity = cosine_similarity(word_1_vector.reshape(1,-1),word_2_vector.reshape(1,-1))[0][0]\n",
        "  return similarity\n",
        "\n",
        "\n",
        "for index,row in data.iterrows(): \n",
        "  data['CSS']=(get_word_similarity(row['Word1'],row['Word2'],model)) #CSS= COSINE SIMILARITY SCORE\n",
        "data.head()\n",
        "\n"
      ],
      "execution_count": 111,
      "outputs": [
        {
          "output_type": "execute_result",
          "data": {
            "text/html": [
              "<div>\n",
              "<style scoped>\n",
              "    .dataframe tbody tr th:only-of-type {\n",
              "        vertical-align: middle;\n",
              "    }\n",
              "\n",
              "    .dataframe tbody tr th {\n",
              "        vertical-align: top;\n",
              "    }\n",
              "\n",
              "    .dataframe thead th {\n",
              "        text-align: right;\n",
              "    }\n",
              "</style>\n",
              "<table border=\"1\" class=\"dataframe\">\n",
              "  <thead>\n",
              "    <tr style=\"text-align: right;\">\n",
              "      <th></th>\n",
              "      <th>Word1</th>\n",
              "      <th>Word2</th>\n",
              "      <th>RSS</th>\n",
              "      <th>CSS</th>\n",
              "      <th>CSS_2</th>\n",
              "    </tr>\n",
              "  </thead>\n",
              "  <tbody>\n",
              "    <tr>\n",
              "      <th>0</th>\n",
              "      <td>tiger</td>\n",
              "      <td>tiger</td>\n",
              "      <td>10.00</td>\n",
              "      <td>0.118132</td>\n",
              "      <td>0.118132</td>\n",
              "    </tr>\n",
              "    <tr>\n",
              "      <th>1</th>\n",
              "      <td>plane</td>\n",
              "      <td>car</td>\n",
              "      <td>5.77</td>\n",
              "      <td>0.118132</td>\n",
              "      <td>0.118132</td>\n",
              "    </tr>\n",
              "    <tr>\n",
              "      <th>2</th>\n",
              "      <td>train</td>\n",
              "      <td>car</td>\n",
              "      <td>6.31</td>\n",
              "      <td>0.118132</td>\n",
              "      <td>0.118132</td>\n",
              "    </tr>\n",
              "    <tr>\n",
              "      <th>3</th>\n",
              "      <td>television</td>\n",
              "      <td>radio</td>\n",
              "      <td>6.77</td>\n",
              "      <td>0.118132</td>\n",
              "      <td>0.118132</td>\n",
              "    </tr>\n",
              "    <tr>\n",
              "      <th>4</th>\n",
              "      <td>media</td>\n",
              "      <td>radio</td>\n",
              "      <td>7.42</td>\n",
              "      <td>0.118132</td>\n",
              "      <td>0.118132</td>\n",
              "    </tr>\n",
              "  </tbody>\n",
              "</table>\n",
              "</div>"
            ],
            "text/plain": [
              "        Word1  Word2    RSS       CSS     CSS_2\n",
              "0       tiger  tiger  10.00  0.118132  0.118132\n",
              "1       plane    car   5.77  0.118132  0.118132\n",
              "2       train    car   6.31  0.118132  0.118132\n",
              "3  television  radio   6.77  0.118132  0.118132\n",
              "4       media  radio   7.42  0.118132  0.118132"
            ]
          },
          "metadata": {},
          "execution_count": 111
        }
      ]
    },
    {
      "cell_type": "markdown",
      "metadata": {
        "id": "m9tKloePLXYl"
      },
      "source": [
        "# Spearman correlation"
      ]
    },
    {
      "cell_type": "code",
      "metadata": {
        "colab": {
          "base_uri": "https://localhost:8080/"
        },
        "id": "Sl_6o6rV8ZNt",
        "outputId": "8a9aaf80-582b-496b-8775-c9b2a687bc80"
      },
      "source": [
        "#from scipy import stats\n",
        "from scipy.stats.mstats import spearmanr\n",
        "\n",
        "CSS=data['CSS']\n",
        "RSS=data['RSS']\n",
        "\n",
        "for index,row in data.iterrows(): \n",
        "  p = stats.spearmanr(CSS,RSS)\n",
        "  print(p)"
      ],
      "execution_count": 98,
      "outputs": [
        {
          "output_type": "stream",
          "text": [
            "/usr/local/lib/python3.7/dist-packages/numpy/lib/function_base.py:2559: RuntimeWarning: invalid value encountered in true_divide\n",
            "  c /= stddev[:, None]\n",
            "/usr/local/lib/python3.7/dist-packages/numpy/lib/function_base.py:2560: RuntimeWarning: invalid value encountered in true_divide\n",
            "  c /= stddev[None, :]\n"
          ],
          "name": "stderr"
        },
        {
          "output_type": "stream",
          "text": [
            "SpearmanrResult(correlation=nan, pvalue=nan)\n",
            "SpearmanrResult(correlation=nan, pvalue=nan)\n",
            "SpearmanrResult(correlation=nan, pvalue=nan)\n",
            "SpearmanrResult(correlation=nan, pvalue=nan)\n",
            "SpearmanrResult(correlation=nan, pvalue=nan)\n",
            "SpearmanrResult(correlation=nan, pvalue=nan)\n",
            "SpearmanrResult(correlation=nan, pvalue=nan)\n",
            "SpearmanrResult(correlation=nan, pvalue=nan)\n",
            "SpearmanrResult(correlation=nan, pvalue=nan)\n",
            "SpearmanrResult(correlation=nan, pvalue=nan)\n",
            "SpearmanrResult(correlation=nan, pvalue=nan)\n",
            "SpearmanrResult(correlation=nan, pvalue=nan)\n",
            "SpearmanrResult(correlation=nan, pvalue=nan)\n",
            "SpearmanrResult(correlation=nan, pvalue=nan)\n",
            "SpearmanrResult(correlation=nan, pvalue=nan)\n",
            "SpearmanrResult(correlation=nan, pvalue=nan)\n",
            "SpearmanrResult(correlation=nan, pvalue=nan)\n",
            "SpearmanrResult(correlation=nan, pvalue=nan)\n",
            "SpearmanrResult(correlation=nan, pvalue=nan)\n",
            "SpearmanrResult(correlation=nan, pvalue=nan)\n",
            "SpearmanrResult(correlation=nan, pvalue=nan)\n",
            "SpearmanrResult(correlation=nan, pvalue=nan)\n",
            "SpearmanrResult(correlation=nan, pvalue=nan)\n",
            "SpearmanrResult(correlation=nan, pvalue=nan)\n",
            "SpearmanrResult(correlation=nan, pvalue=nan)\n",
            "SpearmanrResult(correlation=nan, pvalue=nan)\n",
            "SpearmanrResult(correlation=nan, pvalue=nan)\n",
            "SpearmanrResult(correlation=nan, pvalue=nan)\n",
            "SpearmanrResult(correlation=nan, pvalue=nan)\n",
            "SpearmanrResult(correlation=nan, pvalue=nan)\n",
            "SpearmanrResult(correlation=nan, pvalue=nan)\n",
            "SpearmanrResult(correlation=nan, pvalue=nan)\n",
            "SpearmanrResult(correlation=nan, pvalue=nan)\n",
            "SpearmanrResult(correlation=nan, pvalue=nan)\n",
            "SpearmanrResult(correlation=nan, pvalue=nan)\n",
            "SpearmanrResult(correlation=nan, pvalue=nan)\n",
            "SpearmanrResult(correlation=nan, pvalue=nan)\n",
            "SpearmanrResult(correlation=nan, pvalue=nan)\n",
            "SpearmanrResult(correlation=nan, pvalue=nan)\n",
            "SpearmanrResult(correlation=nan, pvalue=nan)\n",
            "SpearmanrResult(correlation=nan, pvalue=nan)\n",
            "SpearmanrResult(correlation=nan, pvalue=nan)\n",
            "SpearmanrResult(correlation=nan, pvalue=nan)\n",
            "SpearmanrResult(correlation=nan, pvalue=nan)\n",
            "SpearmanrResult(correlation=nan, pvalue=nan)\n",
            "SpearmanrResult(correlation=nan, pvalue=nan)\n",
            "SpearmanrResult(correlation=nan, pvalue=nan)\n",
            "SpearmanrResult(correlation=nan, pvalue=nan)\n",
            "SpearmanrResult(correlation=nan, pvalue=nan)\n",
            "SpearmanrResult(correlation=nan, pvalue=nan)\n",
            "SpearmanrResult(correlation=nan, pvalue=nan)\n",
            "SpearmanrResult(correlation=nan, pvalue=nan)\n",
            "SpearmanrResult(correlation=nan, pvalue=nan)\n",
            "SpearmanrResult(correlation=nan, pvalue=nan)\n",
            "SpearmanrResult(correlation=nan, pvalue=nan)\n",
            "SpearmanrResult(correlation=nan, pvalue=nan)\n",
            "SpearmanrResult(correlation=nan, pvalue=nan)\n",
            "SpearmanrResult(correlation=nan, pvalue=nan)\n",
            "SpearmanrResult(correlation=nan, pvalue=nan)\n",
            "SpearmanrResult(correlation=nan, pvalue=nan)\n",
            "SpearmanrResult(correlation=nan, pvalue=nan)\n",
            "SpearmanrResult(correlation=nan, pvalue=nan)\n",
            "SpearmanrResult(correlation=nan, pvalue=nan)\n",
            "SpearmanrResult(correlation=nan, pvalue=nan)\n",
            "SpearmanrResult(correlation=nan, pvalue=nan)\n",
            "SpearmanrResult(correlation=nan, pvalue=nan)\n",
            "SpearmanrResult(correlation=nan, pvalue=nan)\n",
            "SpearmanrResult(correlation=nan, pvalue=nan)\n",
            "SpearmanrResult(correlation=nan, pvalue=nan)\n",
            "SpearmanrResult(correlation=nan, pvalue=nan)\n",
            "SpearmanrResult(correlation=nan, pvalue=nan)\n",
            "SpearmanrResult(correlation=nan, pvalue=nan)\n",
            "SpearmanrResult(correlation=nan, pvalue=nan)\n",
            "SpearmanrResult(correlation=nan, pvalue=nan)\n",
            "SpearmanrResult(correlation=nan, pvalue=nan)\n",
            "SpearmanrResult(correlation=nan, pvalue=nan)\n",
            "SpearmanrResult(correlation=nan, pvalue=nan)\n",
            "SpearmanrResult(correlation=nan, pvalue=nan)\n",
            "SpearmanrResult(correlation=nan, pvalue=nan)\n",
            "SpearmanrResult(correlation=nan, pvalue=nan)\n",
            "SpearmanrResult(correlation=nan, pvalue=nan)\n",
            "SpearmanrResult(correlation=nan, pvalue=nan)\n",
            "SpearmanrResult(correlation=nan, pvalue=nan)\n",
            "SpearmanrResult(correlation=nan, pvalue=nan)\n",
            "SpearmanrResult(correlation=nan, pvalue=nan)\n",
            "SpearmanrResult(correlation=nan, pvalue=nan)\n",
            "SpearmanrResult(correlation=nan, pvalue=nan)\n",
            "SpearmanrResult(correlation=nan, pvalue=nan)\n",
            "SpearmanrResult(correlation=nan, pvalue=nan)\n",
            "SpearmanrResult(correlation=nan, pvalue=nan)\n",
            "SpearmanrResult(correlation=nan, pvalue=nan)\n",
            "SpearmanrResult(correlation=nan, pvalue=nan)\n",
            "SpearmanrResult(correlation=nan, pvalue=nan)\n",
            "SpearmanrResult(correlation=nan, pvalue=nan)\n",
            "SpearmanrResult(correlation=nan, pvalue=nan)\n",
            "SpearmanrResult(correlation=nan, pvalue=nan)\n",
            "SpearmanrResult(correlation=nan, pvalue=nan)\n",
            "SpearmanrResult(correlation=nan, pvalue=nan)\n",
            "SpearmanrResult(correlation=nan, pvalue=nan)\n",
            "SpearmanrResult(correlation=nan, pvalue=nan)\n",
            "SpearmanrResult(correlation=nan, pvalue=nan)\n",
            "SpearmanrResult(correlation=nan, pvalue=nan)\n",
            "SpearmanrResult(correlation=nan, pvalue=nan)\n",
            "SpearmanrResult(correlation=nan, pvalue=nan)\n",
            "SpearmanrResult(correlation=nan, pvalue=nan)\n",
            "SpearmanrResult(correlation=nan, pvalue=nan)\n",
            "SpearmanrResult(correlation=nan, pvalue=nan)\n",
            "SpearmanrResult(correlation=nan, pvalue=nan)\n",
            "SpearmanrResult(correlation=nan, pvalue=nan)\n",
            "SpearmanrResult(correlation=nan, pvalue=nan)\n",
            "SpearmanrResult(correlation=nan, pvalue=nan)\n",
            "SpearmanrResult(correlation=nan, pvalue=nan)\n",
            "SpearmanrResult(correlation=nan, pvalue=nan)\n",
            "SpearmanrResult(correlation=nan, pvalue=nan)\n",
            "SpearmanrResult(correlation=nan, pvalue=nan)\n",
            "SpearmanrResult(correlation=nan, pvalue=nan)\n",
            "SpearmanrResult(correlation=nan, pvalue=nan)\n",
            "SpearmanrResult(correlation=nan, pvalue=nan)\n",
            "SpearmanrResult(correlation=nan, pvalue=nan)\n",
            "SpearmanrResult(correlation=nan, pvalue=nan)\n",
            "SpearmanrResult(correlation=nan, pvalue=nan)\n",
            "SpearmanrResult(correlation=nan, pvalue=nan)\n",
            "SpearmanrResult(correlation=nan, pvalue=nan)\n",
            "SpearmanrResult(correlation=nan, pvalue=nan)\n",
            "SpearmanrResult(correlation=nan, pvalue=nan)\n",
            "SpearmanrResult(correlation=nan, pvalue=nan)\n",
            "SpearmanrResult(correlation=nan, pvalue=nan)\n",
            "SpearmanrResult(correlation=nan, pvalue=nan)\n",
            "SpearmanrResult(correlation=nan, pvalue=nan)\n",
            "SpearmanrResult(correlation=nan, pvalue=nan)\n",
            "SpearmanrResult(correlation=nan, pvalue=nan)\n",
            "SpearmanrResult(correlation=nan, pvalue=nan)\n",
            "SpearmanrResult(correlation=nan, pvalue=nan)\n",
            "SpearmanrResult(correlation=nan, pvalue=nan)\n",
            "SpearmanrResult(correlation=nan, pvalue=nan)\n",
            "SpearmanrResult(correlation=nan, pvalue=nan)\n",
            "SpearmanrResult(correlation=nan, pvalue=nan)\n",
            "SpearmanrResult(correlation=nan, pvalue=nan)\n",
            "SpearmanrResult(correlation=nan, pvalue=nan)\n",
            "SpearmanrResult(correlation=nan, pvalue=nan)\n",
            "SpearmanrResult(correlation=nan, pvalue=nan)\n",
            "SpearmanrResult(correlation=nan, pvalue=nan)\n",
            "SpearmanrResult(correlation=nan, pvalue=nan)\n",
            "SpearmanrResult(correlation=nan, pvalue=nan)\n",
            "SpearmanrResult(correlation=nan, pvalue=nan)\n",
            "SpearmanrResult(correlation=nan, pvalue=nan)\n",
            "SpearmanrResult(correlation=nan, pvalue=nan)\n",
            "SpearmanrResult(correlation=nan, pvalue=nan)\n",
            "SpearmanrResult(correlation=nan, pvalue=nan)\n",
            "SpearmanrResult(correlation=nan, pvalue=nan)\n",
            "SpearmanrResult(correlation=nan, pvalue=nan)\n",
            "SpearmanrResult(correlation=nan, pvalue=nan)\n",
            "SpearmanrResult(correlation=nan, pvalue=nan)\n",
            "SpearmanrResult(correlation=nan, pvalue=nan)\n",
            "SpearmanrResult(correlation=nan, pvalue=nan)\n",
            "SpearmanrResult(correlation=nan, pvalue=nan)\n",
            "SpearmanrResult(correlation=nan, pvalue=nan)\n",
            "SpearmanrResult(correlation=nan, pvalue=nan)\n",
            "SpearmanrResult(correlation=nan, pvalue=nan)\n",
            "SpearmanrResult(correlation=nan, pvalue=nan)\n",
            "SpearmanrResult(correlation=nan, pvalue=nan)\n",
            "SpearmanrResult(correlation=nan, pvalue=nan)\n",
            "SpearmanrResult(correlation=nan, pvalue=nan)\n",
            "SpearmanrResult(correlation=nan, pvalue=nan)\n",
            "SpearmanrResult(correlation=nan, pvalue=nan)\n",
            "SpearmanrResult(correlation=nan, pvalue=nan)\n",
            "SpearmanrResult(correlation=nan, pvalue=nan)\n",
            "SpearmanrResult(correlation=nan, pvalue=nan)\n",
            "SpearmanrResult(correlation=nan, pvalue=nan)\n",
            "SpearmanrResult(correlation=nan, pvalue=nan)\n",
            "SpearmanrResult(correlation=nan, pvalue=nan)\n",
            "SpearmanrResult(correlation=nan, pvalue=nan)\n",
            "SpearmanrResult(correlation=nan, pvalue=nan)\n",
            "SpearmanrResult(correlation=nan, pvalue=nan)\n",
            "SpearmanrResult(correlation=nan, pvalue=nan)\n",
            "SpearmanrResult(correlation=nan, pvalue=nan)\n",
            "SpearmanrResult(correlation=nan, pvalue=nan)\n",
            "SpearmanrResult(correlation=nan, pvalue=nan)\n",
            "SpearmanrResult(correlation=nan, pvalue=nan)\n",
            "SpearmanrResult(correlation=nan, pvalue=nan)\n",
            "SpearmanrResult(correlation=nan, pvalue=nan)\n",
            "SpearmanrResult(correlation=nan, pvalue=nan)\n",
            "SpearmanrResult(correlation=nan, pvalue=nan)\n",
            "SpearmanrResult(correlation=nan, pvalue=nan)\n",
            "SpearmanrResult(correlation=nan, pvalue=nan)\n",
            "SpearmanrResult(correlation=nan, pvalue=nan)\n",
            "SpearmanrResult(correlation=nan, pvalue=nan)\n",
            "SpearmanrResult(correlation=nan, pvalue=nan)\n",
            "SpearmanrResult(correlation=nan, pvalue=nan)\n",
            "SpearmanrResult(correlation=nan, pvalue=nan)\n",
            "SpearmanrResult(correlation=nan, pvalue=nan)\n",
            "SpearmanrResult(correlation=nan, pvalue=nan)\n",
            "SpearmanrResult(correlation=nan, pvalue=nan)\n",
            "SpearmanrResult(correlation=nan, pvalue=nan)\n",
            "SpearmanrResult(correlation=nan, pvalue=nan)\n",
            "SpearmanrResult(correlation=nan, pvalue=nan)\n",
            "SpearmanrResult(correlation=nan, pvalue=nan)\n",
            "SpearmanrResult(correlation=nan, pvalue=nan)\n",
            "SpearmanrResult(correlation=nan, pvalue=nan)\n",
            "SpearmanrResult(correlation=nan, pvalue=nan)\n",
            "SpearmanrResult(correlation=nan, pvalue=nan)\n",
            "SpearmanrResult(correlation=nan, pvalue=nan)\n"
          ],
          "name": "stdout"
        }
      ]
    },
    {
      "cell_type": "markdown",
      "metadata": {
        "id": "kLQ8HorKFk95"
      },
      "source": [
        "# Train fast text "
      ]
    },
    {
      "cell_type": "code",
      "metadata": {
        "id": "rtiqooFDuJ_Q",
        "colab": {
          "base_uri": "https://localhost:8080/"
        },
        "outputId": "e127a9c6-66a1-49b6-b665-ef14c1ba26b3"
      },
      "source": [
        "!pip install fasttext"
      ],
      "execution_count": null,
      "outputs": [
        {
          "output_type": "stream",
          "text": [
            "Collecting fasttext\n",
            "  Downloading fasttext-0.9.2.tar.gz (68 kB)\n",
            "\u001b[?25l\r\u001b[K     |████▊                           | 10 kB 21.0 MB/s eta 0:00:01\r\u001b[K     |█████████▌                      | 20 kB 27.3 MB/s eta 0:00:01\r\u001b[K     |██████████████▎                 | 30 kB 30.2 MB/s eta 0:00:01\r\u001b[K     |███████████████████             | 40 kB 32.9 MB/s eta 0:00:01\r\u001b[K     |███████████████████████▉        | 51 kB 20.9 MB/s eta 0:00:01\r\u001b[K     |████████████████████████████▋   | 61 kB 12.8 MB/s eta 0:00:01\r\u001b[K     |████████████████████████████████| 68 kB 4.1 MB/s \n",
            "\u001b[?25hCollecting pybind11>=2.2\n",
            "  Using cached pybind11-2.7.1-py2.py3-none-any.whl (200 kB)\n",
            "Requirement already satisfied: setuptools>=0.7.0 in /usr/local/lib/python3.7/dist-packages (from fasttext) (57.4.0)\n",
            "Requirement already satisfied: numpy in /usr/local/lib/python3.7/dist-packages (from fasttext) (1.19.5)\n",
            "Building wheels for collected packages: fasttext\n",
            "  Building wheel for fasttext (setup.py) ... \u001b[?25l\u001b[?25hdone\n",
            "  Created wheel for fasttext: filename=fasttext-0.9.2-cp37-cp37m-linux_x86_64.whl size=3094160 sha256=9672b33ea7e6b49978f4b3cf1b3c9232072602198360ccff30dd50fed9f53d2a\n",
            "  Stored in directory: /root/.cache/pip/wheels/4e/ca/bf/b020d2be95f7641801a6597a29c8f4f19e38f9c02a345bab9b\n",
            "Successfully built fasttext\n",
            "Installing collected packages: pybind11, fasttext\n",
            "Successfully installed fasttext-0.9.2 pybind11-2.7.1\n"
          ],
          "name": "stdout"
        }
      ]
    },
    {
      "cell_type": "code",
      "metadata": {
        "id": "3AMcRcSgFtGh"
      },
      "source": [
        "import fasttext\n",
        "fassttext_model = fasttext.train_unsupervised(input = '/content/text8',\n",
        "                                              ws = 5,\n",
        "                                              model = 'cbow',\n",
        "                                              dim = 100,\n",
        "                                              epoch = 5)"
      ],
      "execution_count": 99,
      "outputs": []
    },
    {
      "cell_type": "markdown",
      "metadata": {
        "id": "yxXbl4yXF40C"
      },
      "source": [
        "## word similarity "
      ]
    },
    {
      "cell_type": "code",
      "metadata": {
        "colab": {
          "base_uri": "https://localhost:8080/",
          "height": 206
        },
        "id": "UGnk4JmyF1vf",
        "outputId": "2e2f323a-81a3-40e1-b8b9-7b9083c1c2da"
      },
      "source": [
        "\n",
        "for index,row in data.iterrows(): \n",
        "  data['CSS_2']=get_word_similarity(row['Word1'],row['Word2'],model)\n",
        "data.head()"
      ],
      "execution_count": 109,
      "outputs": [
        {
          "output_type": "execute_result",
          "data": {
            "text/html": [
              "<div>\n",
              "<style scoped>\n",
              "    .dataframe tbody tr th:only-of-type {\n",
              "        vertical-align: middle;\n",
              "    }\n",
              "\n",
              "    .dataframe tbody tr th {\n",
              "        vertical-align: top;\n",
              "    }\n",
              "\n",
              "    .dataframe thead th {\n",
              "        text-align: right;\n",
              "    }\n",
              "</style>\n",
              "<table border=\"1\" class=\"dataframe\">\n",
              "  <thead>\n",
              "    <tr style=\"text-align: right;\">\n",
              "      <th></th>\n",
              "      <th>Word1</th>\n",
              "      <th>Word2</th>\n",
              "      <th>RSS</th>\n",
              "      <th>CSS</th>\n",
              "      <th>CSS_2</th>\n",
              "    </tr>\n",
              "  </thead>\n",
              "  <tbody>\n",
              "    <tr>\n",
              "      <th>0</th>\n",
              "      <td>tiger</td>\n",
              "      <td>tiger</td>\n",
              "      <td>10.00</td>\n",
              "      <td>0.118132</td>\n",
              "      <td>0.118132</td>\n",
              "    </tr>\n",
              "    <tr>\n",
              "      <th>1</th>\n",
              "      <td>plane</td>\n",
              "      <td>car</td>\n",
              "      <td>5.77</td>\n",
              "      <td>0.118132</td>\n",
              "      <td>0.118132</td>\n",
              "    </tr>\n",
              "    <tr>\n",
              "      <th>2</th>\n",
              "      <td>train</td>\n",
              "      <td>car</td>\n",
              "      <td>6.31</td>\n",
              "      <td>0.118132</td>\n",
              "      <td>0.118132</td>\n",
              "    </tr>\n",
              "    <tr>\n",
              "      <th>3</th>\n",
              "      <td>television</td>\n",
              "      <td>radio</td>\n",
              "      <td>6.77</td>\n",
              "      <td>0.118132</td>\n",
              "      <td>0.118132</td>\n",
              "    </tr>\n",
              "    <tr>\n",
              "      <th>4</th>\n",
              "      <td>media</td>\n",
              "      <td>radio</td>\n",
              "      <td>7.42</td>\n",
              "      <td>0.118132</td>\n",
              "      <td>0.118132</td>\n",
              "    </tr>\n",
              "  </tbody>\n",
              "</table>\n",
              "</div>"
            ],
            "text/plain": [
              "        Word1  Word2    RSS       CSS     CSS_2\n",
              "0       tiger  tiger  10.00  0.118132  0.118132\n",
              "1       plane    car   5.77  0.118132  0.118132\n",
              "2       train    car   6.31  0.118132  0.118132\n",
              "3  television  radio   6.77  0.118132  0.118132\n",
              "4       media  radio   7.42  0.118132  0.118132"
            ]
          },
          "metadata": {},
          "execution_count": 109
        }
      ]
    },
    {
      "cell_type": "markdown",
      "metadata": {
        "id": "Jwg3b5T_LRiH"
      },
      "source": [
        "# Spearman correlation"
      ]
    },
    {
      "cell_type": "code",
      "metadata": {
        "colab": {
          "base_uri": "https://localhost:8080/"
        },
        "id": "bH-LoyRAKcwd",
        "outputId": "e1f575fa-ea04-4447-f3c9-3d7e4bf10494"
      },
      "source": [
        "CSS=data['CSS_2']\n",
        "RSS=data['RSS']\n",
        "\n",
        "for index,row in data.iterrows(): \n",
        "  p = stats.spearmanr(CSS,RSS)\n",
        "  print(p)"
      ],
      "execution_count": 112,
      "outputs": [
        {
          "output_type": "stream",
          "text": [
            "/usr/local/lib/python3.7/dist-packages/numpy/lib/function_base.py:2559: RuntimeWarning: invalid value encountered in true_divide\n",
            "  c /= stddev[:, None]\n",
            "/usr/local/lib/python3.7/dist-packages/numpy/lib/function_base.py:2560: RuntimeWarning: invalid value encountered in true_divide\n",
            "  c /= stddev[None, :]\n"
          ],
          "name": "stderr"
        },
        {
          "output_type": "stream",
          "text": [
            "SpearmanrResult(correlation=nan, pvalue=nan)\n",
            "SpearmanrResult(correlation=nan, pvalue=nan)\n",
            "SpearmanrResult(correlation=nan, pvalue=nan)\n",
            "SpearmanrResult(correlation=nan, pvalue=nan)\n",
            "SpearmanrResult(correlation=nan, pvalue=nan)\n",
            "SpearmanrResult(correlation=nan, pvalue=nan)\n",
            "SpearmanrResult(correlation=nan, pvalue=nan)\n",
            "SpearmanrResult(correlation=nan, pvalue=nan)\n",
            "SpearmanrResult(correlation=nan, pvalue=nan)\n",
            "SpearmanrResult(correlation=nan, pvalue=nan)\n",
            "SpearmanrResult(correlation=nan, pvalue=nan)\n",
            "SpearmanrResult(correlation=nan, pvalue=nan)\n",
            "SpearmanrResult(correlation=nan, pvalue=nan)\n",
            "SpearmanrResult(correlation=nan, pvalue=nan)\n",
            "SpearmanrResult(correlation=nan, pvalue=nan)\n",
            "SpearmanrResult(correlation=nan, pvalue=nan)\n",
            "SpearmanrResult(correlation=nan, pvalue=nan)\n",
            "SpearmanrResult(correlation=nan, pvalue=nan)\n",
            "SpearmanrResult(correlation=nan, pvalue=nan)\n",
            "SpearmanrResult(correlation=nan, pvalue=nan)\n",
            "SpearmanrResult(correlation=nan, pvalue=nan)\n",
            "SpearmanrResult(correlation=nan, pvalue=nan)\n",
            "SpearmanrResult(correlation=nan, pvalue=nan)\n",
            "SpearmanrResult(correlation=nan, pvalue=nan)\n",
            "SpearmanrResult(correlation=nan, pvalue=nan)\n",
            "SpearmanrResult(correlation=nan, pvalue=nan)\n",
            "SpearmanrResult(correlation=nan, pvalue=nan)\n",
            "SpearmanrResult(correlation=nan, pvalue=nan)\n",
            "SpearmanrResult(correlation=nan, pvalue=nan)\n",
            "SpearmanrResult(correlation=nan, pvalue=nan)\n",
            "SpearmanrResult(correlation=nan, pvalue=nan)\n",
            "SpearmanrResult(correlation=nan, pvalue=nan)\n",
            "SpearmanrResult(correlation=nan, pvalue=nan)\n",
            "SpearmanrResult(correlation=nan, pvalue=nan)\n",
            "SpearmanrResult(correlation=nan, pvalue=nan)\n",
            "SpearmanrResult(correlation=nan, pvalue=nan)\n",
            "SpearmanrResult(correlation=nan, pvalue=nan)\n",
            "SpearmanrResult(correlation=nan, pvalue=nan)\n",
            "SpearmanrResult(correlation=nan, pvalue=nan)\n",
            "SpearmanrResult(correlation=nan, pvalue=nan)\n",
            "SpearmanrResult(correlation=nan, pvalue=nan)\n",
            "SpearmanrResult(correlation=nan, pvalue=nan)\n",
            "SpearmanrResult(correlation=nan, pvalue=nan)\n",
            "SpearmanrResult(correlation=nan, pvalue=nan)\n",
            "SpearmanrResult(correlation=nan, pvalue=nan)\n",
            "SpearmanrResult(correlation=nan, pvalue=nan)\n",
            "SpearmanrResult(correlation=nan, pvalue=nan)\n",
            "SpearmanrResult(correlation=nan, pvalue=nan)\n",
            "SpearmanrResult(correlation=nan, pvalue=nan)\n",
            "SpearmanrResult(correlation=nan, pvalue=nan)\n",
            "SpearmanrResult(correlation=nan, pvalue=nan)\n",
            "SpearmanrResult(correlation=nan, pvalue=nan)\n",
            "SpearmanrResult(correlation=nan, pvalue=nan)\n",
            "SpearmanrResult(correlation=nan, pvalue=nan)\n",
            "SpearmanrResult(correlation=nan, pvalue=nan)\n",
            "SpearmanrResult(correlation=nan, pvalue=nan)\n",
            "SpearmanrResult(correlation=nan, pvalue=nan)\n",
            "SpearmanrResult(correlation=nan, pvalue=nan)\n",
            "SpearmanrResult(correlation=nan, pvalue=nan)\n",
            "SpearmanrResult(correlation=nan, pvalue=nan)\n",
            "SpearmanrResult(correlation=nan, pvalue=nan)\n",
            "SpearmanrResult(correlation=nan, pvalue=nan)\n",
            "SpearmanrResult(correlation=nan, pvalue=nan)\n",
            "SpearmanrResult(correlation=nan, pvalue=nan)\n",
            "SpearmanrResult(correlation=nan, pvalue=nan)\n",
            "SpearmanrResult(correlation=nan, pvalue=nan)\n",
            "SpearmanrResult(correlation=nan, pvalue=nan)\n",
            "SpearmanrResult(correlation=nan, pvalue=nan)\n",
            "SpearmanrResult(correlation=nan, pvalue=nan)\n",
            "SpearmanrResult(correlation=nan, pvalue=nan)\n",
            "SpearmanrResult(correlation=nan, pvalue=nan)\n",
            "SpearmanrResult(correlation=nan, pvalue=nan)\n",
            "SpearmanrResult(correlation=nan, pvalue=nan)\n",
            "SpearmanrResult(correlation=nan, pvalue=nan)\n",
            "SpearmanrResult(correlation=nan, pvalue=nan)\n",
            "SpearmanrResult(correlation=nan, pvalue=nan)\n",
            "SpearmanrResult(correlation=nan, pvalue=nan)\n",
            "SpearmanrResult(correlation=nan, pvalue=nan)\n",
            "SpearmanrResult(correlation=nan, pvalue=nan)\n",
            "SpearmanrResult(correlation=nan, pvalue=nan)\n",
            "SpearmanrResult(correlation=nan, pvalue=nan)\n",
            "SpearmanrResult(correlation=nan, pvalue=nan)\n",
            "SpearmanrResult(correlation=nan, pvalue=nan)\n",
            "SpearmanrResult(correlation=nan, pvalue=nan)\n",
            "SpearmanrResult(correlation=nan, pvalue=nan)\n",
            "SpearmanrResult(correlation=nan, pvalue=nan)\n",
            "SpearmanrResult(correlation=nan, pvalue=nan)\n",
            "SpearmanrResult(correlation=nan, pvalue=nan)\n",
            "SpearmanrResult(correlation=nan, pvalue=nan)\n",
            "SpearmanrResult(correlation=nan, pvalue=nan)\n",
            "SpearmanrResult(correlation=nan, pvalue=nan)\n",
            "SpearmanrResult(correlation=nan, pvalue=nan)\n",
            "SpearmanrResult(correlation=nan, pvalue=nan)\n",
            "SpearmanrResult(correlation=nan, pvalue=nan)\n",
            "SpearmanrResult(correlation=nan, pvalue=nan)\n",
            "SpearmanrResult(correlation=nan, pvalue=nan)\n",
            "SpearmanrResult(correlation=nan, pvalue=nan)\n",
            "SpearmanrResult(correlation=nan, pvalue=nan)\n",
            "SpearmanrResult(correlation=nan, pvalue=nan)\n",
            "SpearmanrResult(correlation=nan, pvalue=nan)\n",
            "SpearmanrResult(correlation=nan, pvalue=nan)\n",
            "SpearmanrResult(correlation=nan, pvalue=nan)\n",
            "SpearmanrResult(correlation=nan, pvalue=nan)\n",
            "SpearmanrResult(correlation=nan, pvalue=nan)\n",
            "SpearmanrResult(correlation=nan, pvalue=nan)\n",
            "SpearmanrResult(correlation=nan, pvalue=nan)\n",
            "SpearmanrResult(correlation=nan, pvalue=nan)\n",
            "SpearmanrResult(correlation=nan, pvalue=nan)\n",
            "SpearmanrResult(correlation=nan, pvalue=nan)\n",
            "SpearmanrResult(correlation=nan, pvalue=nan)\n",
            "SpearmanrResult(correlation=nan, pvalue=nan)\n",
            "SpearmanrResult(correlation=nan, pvalue=nan)\n",
            "SpearmanrResult(correlation=nan, pvalue=nan)\n",
            "SpearmanrResult(correlation=nan, pvalue=nan)\n",
            "SpearmanrResult(correlation=nan, pvalue=nan)\n",
            "SpearmanrResult(correlation=nan, pvalue=nan)\n",
            "SpearmanrResult(correlation=nan, pvalue=nan)\n",
            "SpearmanrResult(correlation=nan, pvalue=nan)\n",
            "SpearmanrResult(correlation=nan, pvalue=nan)\n",
            "SpearmanrResult(correlation=nan, pvalue=nan)\n",
            "SpearmanrResult(correlation=nan, pvalue=nan)\n",
            "SpearmanrResult(correlation=nan, pvalue=nan)\n",
            "SpearmanrResult(correlation=nan, pvalue=nan)\n",
            "SpearmanrResult(correlation=nan, pvalue=nan)\n",
            "SpearmanrResult(correlation=nan, pvalue=nan)\n",
            "SpearmanrResult(correlation=nan, pvalue=nan)\n",
            "SpearmanrResult(correlation=nan, pvalue=nan)\n",
            "SpearmanrResult(correlation=nan, pvalue=nan)\n",
            "SpearmanrResult(correlation=nan, pvalue=nan)\n",
            "SpearmanrResult(correlation=nan, pvalue=nan)\n",
            "SpearmanrResult(correlation=nan, pvalue=nan)\n",
            "SpearmanrResult(correlation=nan, pvalue=nan)\n",
            "SpearmanrResult(correlation=nan, pvalue=nan)\n",
            "SpearmanrResult(correlation=nan, pvalue=nan)\n",
            "SpearmanrResult(correlation=nan, pvalue=nan)\n",
            "SpearmanrResult(correlation=nan, pvalue=nan)\n",
            "SpearmanrResult(correlation=nan, pvalue=nan)\n",
            "SpearmanrResult(correlation=nan, pvalue=nan)\n",
            "SpearmanrResult(correlation=nan, pvalue=nan)\n",
            "SpearmanrResult(correlation=nan, pvalue=nan)\n",
            "SpearmanrResult(correlation=nan, pvalue=nan)\n",
            "SpearmanrResult(correlation=nan, pvalue=nan)\n",
            "SpearmanrResult(correlation=nan, pvalue=nan)\n",
            "SpearmanrResult(correlation=nan, pvalue=nan)\n",
            "SpearmanrResult(correlation=nan, pvalue=nan)\n",
            "SpearmanrResult(correlation=nan, pvalue=nan)\n",
            "SpearmanrResult(correlation=nan, pvalue=nan)\n",
            "SpearmanrResult(correlation=nan, pvalue=nan)\n",
            "SpearmanrResult(correlation=nan, pvalue=nan)\n",
            "SpearmanrResult(correlation=nan, pvalue=nan)\n",
            "SpearmanrResult(correlation=nan, pvalue=nan)\n",
            "SpearmanrResult(correlation=nan, pvalue=nan)\n",
            "SpearmanrResult(correlation=nan, pvalue=nan)\n",
            "SpearmanrResult(correlation=nan, pvalue=nan)\n",
            "SpearmanrResult(correlation=nan, pvalue=nan)\n",
            "SpearmanrResult(correlation=nan, pvalue=nan)\n",
            "SpearmanrResult(correlation=nan, pvalue=nan)\n",
            "SpearmanrResult(correlation=nan, pvalue=nan)\n",
            "SpearmanrResult(correlation=nan, pvalue=nan)\n",
            "SpearmanrResult(correlation=nan, pvalue=nan)\n",
            "SpearmanrResult(correlation=nan, pvalue=nan)\n",
            "SpearmanrResult(correlation=nan, pvalue=nan)\n",
            "SpearmanrResult(correlation=nan, pvalue=nan)\n",
            "SpearmanrResult(correlation=nan, pvalue=nan)\n",
            "SpearmanrResult(correlation=nan, pvalue=nan)\n",
            "SpearmanrResult(correlation=nan, pvalue=nan)\n",
            "SpearmanrResult(correlation=nan, pvalue=nan)\n",
            "SpearmanrResult(correlation=nan, pvalue=nan)\n",
            "SpearmanrResult(correlation=nan, pvalue=nan)\n",
            "SpearmanrResult(correlation=nan, pvalue=nan)\n",
            "SpearmanrResult(correlation=nan, pvalue=nan)\n",
            "SpearmanrResult(correlation=nan, pvalue=nan)\n",
            "SpearmanrResult(correlation=nan, pvalue=nan)\n",
            "SpearmanrResult(correlation=nan, pvalue=nan)\n",
            "SpearmanrResult(correlation=nan, pvalue=nan)\n",
            "SpearmanrResult(correlation=nan, pvalue=nan)\n",
            "SpearmanrResult(correlation=nan, pvalue=nan)\n",
            "SpearmanrResult(correlation=nan, pvalue=nan)\n",
            "SpearmanrResult(correlation=nan, pvalue=nan)\n",
            "SpearmanrResult(correlation=nan, pvalue=nan)\n",
            "SpearmanrResult(correlation=nan, pvalue=nan)\n",
            "SpearmanrResult(correlation=nan, pvalue=nan)\n",
            "SpearmanrResult(correlation=nan, pvalue=nan)\n",
            "SpearmanrResult(correlation=nan, pvalue=nan)\n",
            "SpearmanrResult(correlation=nan, pvalue=nan)\n",
            "SpearmanrResult(correlation=nan, pvalue=nan)\n",
            "SpearmanrResult(correlation=nan, pvalue=nan)\n",
            "SpearmanrResult(correlation=nan, pvalue=nan)\n",
            "SpearmanrResult(correlation=nan, pvalue=nan)\n",
            "SpearmanrResult(correlation=nan, pvalue=nan)\n",
            "SpearmanrResult(correlation=nan, pvalue=nan)\n",
            "SpearmanrResult(correlation=nan, pvalue=nan)\n",
            "SpearmanrResult(correlation=nan, pvalue=nan)\n",
            "SpearmanrResult(correlation=nan, pvalue=nan)\n",
            "SpearmanrResult(correlation=nan, pvalue=nan)\n",
            "SpearmanrResult(correlation=nan, pvalue=nan)\n",
            "SpearmanrResult(correlation=nan, pvalue=nan)\n",
            "SpearmanrResult(correlation=nan, pvalue=nan)\n",
            "SpearmanrResult(correlation=nan, pvalue=nan)\n",
            "SpearmanrResult(correlation=nan, pvalue=nan)\n",
            "SpearmanrResult(correlation=nan, pvalue=nan)\n",
            "SpearmanrResult(correlation=nan, pvalue=nan)\n"
          ],
          "name": "stdout"
        }
      ]
    },
    {
      "cell_type": "markdown",
      "metadata": {
        "id": "YmPsBJhHU_Uw"
      },
      "source": [
        ""
      ]
    }
  ]
}