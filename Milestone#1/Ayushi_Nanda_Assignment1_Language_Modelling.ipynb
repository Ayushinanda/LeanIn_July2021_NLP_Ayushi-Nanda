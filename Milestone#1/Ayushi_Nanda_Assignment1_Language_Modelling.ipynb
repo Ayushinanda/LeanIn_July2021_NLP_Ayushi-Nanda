{
  "nbformat": 4,
  "nbformat_minor": 0,
  "metadata": {
    "colab": {
      "name": "Untitled0 (1).ipynb",
      "provenance": [],
      "collapsed_sections": []
    },
    "kernelspec": {
      "name": "python3",
      "display_name": "Python 3"
    },
    "language_info": {
      "name": "python"
    }
  },
  "cells": [
    {
      "cell_type": "markdown",
      "metadata": {
        "id": "UH8I8n_cLijA"
      },
      "source": [
        "**Importing all Important libraries**"
      ]
    },
    {
      "cell_type": "code",
      "metadata": {
        "colab": {
          "base_uri": "https://localhost:8080/"
        },
        "id": "oHApEF6M4uOt",
        "outputId": "45e6b374-29d4-4ab1-e5cf-5b64b34688f2"
      },
      "source": [
        "import nltk\n",
        "nltk.download('punkt')"
      ],
      "execution_count": null,
      "outputs": [
        {
          "output_type": "stream",
          "text": [
            "[nltk_data] Downloading package punkt to /root/nltk_data...\n",
            "[nltk_data]   Unzipping tokenizers/punkt.zip.\n"
          ],
          "name": "stdout"
        },
        {
          "output_type": "execute_result",
          "data": {
            "text/plain": [
              "True"
            ]
          },
          "metadata": {
            "tags": []
          },
          "execution_count": 2
        }
      ]
    },
    {
      "cell_type": "code",
      "metadata": {
        "id": "yntIKfYm3u_j"
      },
      "source": [
        "import nltk\n",
        "from nltk import word_tokenize\n",
        "from nltk.util import ngrams\n",
        "from collections import Counter"
      ],
      "execution_count": null,
      "outputs": []
    },
    {
      "cell_type": "markdown",
      "metadata": {
        "id": "KDhdDyMUS4VL"
      },
      "source": [
        "**ngrams**"
      ]
    },
    {
      "cell_type": "code",
      "metadata": {
        "id": "63k21UbffurE"
      },
      "source": [
        "text = \"Hi Hi everyone we can start the assignment by printing basic things\\\n",
        "so that it becomes easy to understand what we actually want to achieve from this\\\n",
        "assignment. Hope you enjoy the practical session of today and if you have any\\\n",
        "doubts you can always reach out to me\"\n",
        "tokens =nltk.word_tokenize(text)\n",
        "bigrams = ngrams(tokens,2)\n",
        "trigrams = ngrams(tokens,3)\n",
        "fourgrams = ngrams(tokens,4)\n",
        "fivegrams = ngrams(tokens,5)"
      ],
      "execution_count": null,
      "outputs": []
    },
    {
      "cell_type": "markdown",
      "metadata": {
        "id": "SC0-gLAFMIeb"
      },
      "source": [
        "**Bigrams**"
      ]
    },
    {
      "cell_type": "code",
      "metadata": {
        "colab": {
          "base_uri": "https://localhost:8080/"
        },
        "id": "J1jKSqnvMH8u",
        "outputId": "b4e87852-51ab-48ec-8259-1f0153a29932"
      },
      "source": [
        "print(Counter(biagrams))"
      ],
      "execution_count": null,
      "outputs": [
        {
          "output_type": "stream",
          "text": [
            "Counter({('Hi', 'Hi'): 1, ('Hi', 'everyone'): 1, ('everyone', 'we'): 1, ('we', 'can'): 1, ('can', 'start'): 1, ('start', 'the'): 1, ('the', 'assignment'): 1, ('assignment', 'by'): 1, ('by', 'printing'): 1, ('printing', 'basic'): 1, ('basic', 'thingsso'): 1, ('thingsso', 'that'): 1, ('that', 'it'): 1, ('it', 'becomes'): 1, ('becomes', 'easy'): 1, ('easy', 'to'): 1, ('to', 'understand'): 1, ('understand', 'what'): 1, ('what', 'we'): 1, ('we', 'actually'): 1, ('actually', 'want'): 1, ('want', 'to'): 1, ('to', 'achieve'): 1, ('achieve', 'from'): 1, ('from', 'thisassignment'): 1, ('thisassignment', '.'): 1, ('.', 'Hope'): 1, ('Hope', 'you'): 1, ('you', 'enjoy'): 1, ('enjoy', 'the'): 1, ('the', 'practical'): 1, ('practical', 'session'): 1, ('session', 'of'): 1, ('of', 'today'): 1, ('today', 'and'): 1, ('and', 'if'): 1, ('if', 'you'): 1, ('you', 'have'): 1, ('have', 'anydoubts'): 1, ('anydoubts', 'you'): 1, ('you', 'can'): 1, ('can', 'always'): 1, ('always', 'reach'): 1, ('reach', 'out'): 1, ('out', 'to'): 1, ('to', 'me'): 1})\n"
          ],
          "name": "stdout"
        }
      ]
    },
    {
      "cell_type": "markdown",
      "metadata": {
        "id": "P3YqrNUcL7Tp"
      },
      "source": [
        "**Trigrams**"
      ]
    },
    {
      "cell_type": "code",
      "metadata": {
        "colab": {
          "base_uri": "https://localhost:8080/"
        },
        "id": "5izcsdrEhSUo",
        "outputId": "9bec291f-5285-4ca7-8157-236003ce9c8c"
      },
      "source": [
        "print(Counter(trigrams))"
      ],
      "execution_count": null,
      "outputs": [
        {
          "output_type": "stream",
          "text": [
            "Counter({('Hi', 'Hi', 'everyone'): 1, ('Hi', 'everyone', 'we'): 1, ('everyone', 'we', 'can'): 1, ('we', 'can', 'start'): 1, ('can', 'start', 'the'): 1, ('start', 'the', 'assignment'): 1, ('the', 'assignment', 'by'): 1, ('assignment', 'by', 'printing'): 1, ('by', 'printing', 'basic'): 1, ('printing', 'basic', 'thingsso'): 1, ('basic', 'thingsso', 'that'): 1, ('thingsso', 'that', 'it'): 1, ('that', 'it', 'becomes'): 1, ('it', 'becomes', 'easy'): 1, ('becomes', 'easy', 'to'): 1, ('easy', 'to', 'understand'): 1, ('to', 'understand', 'what'): 1, ('understand', 'what', 'we'): 1, ('what', 'we', 'actually'): 1, ('we', 'actually', 'want'): 1, ('actually', 'want', 'to'): 1, ('want', 'to', 'achieve'): 1, ('to', 'achieve', 'from'): 1, ('achieve', 'from', 'thisassignment'): 1, ('from', 'thisassignment', '.'): 1, ('thisassignment', '.', 'Hope'): 1, ('.', 'Hope', 'you'): 1, ('Hope', 'you', 'enjoy'): 1, ('you', 'enjoy', 'the'): 1, ('enjoy', 'the', 'practical'): 1, ('the', 'practical', 'session'): 1, ('practical', 'session', 'of'): 1, ('session', 'of', 'today'): 1, ('of', 'today', 'and'): 1, ('today', 'and', 'if'): 1, ('and', 'if', 'you'): 1, ('if', 'you', 'have'): 1, ('you', 'have', 'anydoubts'): 1, ('have', 'anydoubts', 'you'): 1, ('anydoubts', 'you', 'can'): 1, ('you', 'can', 'always'): 1, ('can', 'always', 'reach'): 1, ('always', 'reach', 'out'): 1, ('reach', 'out', 'to'): 1, ('out', 'to', 'me'): 1})\n"
          ],
          "name": "stdout"
        }
      ]
    },
    {
      "cell_type": "markdown",
      "metadata": {
        "id": "cUP4f-Z4MdwH"
      },
      "source": [
        "**Fourgrams**"
      ]
    },
    {
      "cell_type": "code",
      "metadata": {
        "colab": {
          "base_uri": "https://localhost:8080/"
        },
        "id": "a5p7FnjTMpq3",
        "outputId": "2d559e4c-5328-4d53-99b6-b176d0d1035c"
      },
      "source": [
        "print(Counter(fourgrams))"
      ],
      "execution_count": null,
      "outputs": [
        {
          "output_type": "stream",
          "text": [
            "Counter({('Hi', 'Hi', 'everyone', 'we'): 1, ('Hi', 'everyone', 'we', 'can'): 1, ('everyone', 'we', 'can', 'start'): 1, ('we', 'can', 'start', 'the'): 1, ('can', 'start', 'the', 'assignment'): 1, ('start', 'the', 'assignment', 'by'): 1, ('the', 'assignment', 'by', 'printing'): 1, ('assignment', 'by', 'printing', 'basic'): 1, ('by', 'printing', 'basic', 'thingsso'): 1, ('printing', 'basic', 'thingsso', 'that'): 1, ('basic', 'thingsso', 'that', 'it'): 1, ('thingsso', 'that', 'it', 'becomes'): 1, ('that', 'it', 'becomes', 'easy'): 1, ('it', 'becomes', 'easy', 'to'): 1, ('becomes', 'easy', 'to', 'understand'): 1, ('easy', 'to', 'understand', 'what'): 1, ('to', 'understand', 'what', 'we'): 1, ('understand', 'what', 'we', 'actually'): 1, ('what', 'we', 'actually', 'want'): 1, ('we', 'actually', 'want', 'to'): 1, ('actually', 'want', 'to', 'achieve'): 1, ('want', 'to', 'achieve', 'from'): 1, ('to', 'achieve', 'from', 'thisassignment'): 1, ('achieve', 'from', 'thisassignment', '.'): 1, ('from', 'thisassignment', '.', 'Hope'): 1, ('thisassignment', '.', 'Hope', 'you'): 1, ('.', 'Hope', 'you', 'enjoy'): 1, ('Hope', 'you', 'enjoy', 'the'): 1, ('you', 'enjoy', 'the', 'practical'): 1, ('enjoy', 'the', 'practical', 'session'): 1, ('the', 'practical', 'session', 'of'): 1, ('practical', 'session', 'of', 'today'): 1, ('session', 'of', 'today', 'and'): 1, ('of', 'today', 'and', 'if'): 1, ('today', 'and', 'if', 'you'): 1, ('and', 'if', 'you', 'have'): 1, ('if', 'you', 'have', 'anydoubts'): 1, ('you', 'have', 'anydoubts', 'you'): 1, ('have', 'anydoubts', 'you', 'can'): 1, ('anydoubts', 'you', 'can', 'always'): 1, ('you', 'can', 'always', 'reach'): 1, ('can', 'always', 'reach', 'out'): 1, ('always', 'reach', 'out', 'to'): 1, ('reach', 'out', 'to', 'me'): 1})\n"
          ],
          "name": "stdout"
        }
      ]
    },
    {
      "cell_type": "markdown",
      "metadata": {
        "id": "M9ija-DPMuuz"
      },
      "source": [
        "**Fivegrams**"
      ]
    },
    {
      "cell_type": "code",
      "metadata": {
        "colab": {
          "base_uri": "https://localhost:8080/"
        },
        "id": "-kLDSK9uNQXK",
        "outputId": "e3a2c3d3-c484-442f-c7e6-ba7da5a197fe"
      },
      "source": [
        "print(Counter(fivegrams))"
      ],
      "execution_count": null,
      "outputs": [
        {
          "output_type": "stream",
          "text": [
            "Counter({('Hi', 'Hi', 'everyone', 'we', 'can'): 1, ('Hi', 'everyone', 'we', 'can', 'start'): 1, ('everyone', 'we', 'can', 'start', 'the'): 1, ('we', 'can', 'start', 'the', 'assignment'): 1, ('can', 'start', 'the', 'assignment', 'by'): 1, ('start', 'the', 'assignment', 'by', 'printing'): 1, ('the', 'assignment', 'by', 'printing', 'basic'): 1, ('assignment', 'by', 'printing', 'basic', 'thingsso'): 1, ('by', 'printing', 'basic', 'thingsso', 'that'): 1, ('printing', 'basic', 'thingsso', 'that', 'it'): 1, ('basic', 'thingsso', 'that', 'it', 'becomes'): 1, ('thingsso', 'that', 'it', 'becomes', 'easy'): 1, ('that', 'it', 'becomes', 'easy', 'to'): 1, ('it', 'becomes', 'easy', 'to', 'understand'): 1, ('becomes', 'easy', 'to', 'understand', 'what'): 1, ('easy', 'to', 'understand', 'what', 'we'): 1, ('to', 'understand', 'what', 'we', 'actually'): 1, ('understand', 'what', 'we', 'actually', 'want'): 1, ('what', 'we', 'actually', 'want', 'to'): 1, ('we', 'actually', 'want', 'to', 'achieve'): 1, ('actually', 'want', 'to', 'achieve', 'from'): 1, ('want', 'to', 'achieve', 'from', 'thisassignment'): 1, ('to', 'achieve', 'from', 'thisassignment', '.'): 1, ('achieve', 'from', 'thisassignment', '.', 'Hope'): 1, ('from', 'thisassignment', '.', 'Hope', 'you'): 1, ('thisassignment', '.', 'Hope', 'you', 'enjoy'): 1, ('.', 'Hope', 'you', 'enjoy', 'the'): 1, ('Hope', 'you', 'enjoy', 'the', 'practical'): 1, ('you', 'enjoy', 'the', 'practical', 'session'): 1, ('enjoy', 'the', 'practical', 'session', 'of'): 1, ('the', 'practical', 'session', 'of', 'today'): 1, ('practical', 'session', 'of', 'today', 'and'): 1, ('session', 'of', 'today', 'and', 'if'): 1, ('of', 'today', 'and', 'if', 'you'): 1, ('today', 'and', 'if', 'you', 'have'): 1, ('and', 'if', 'you', 'have', 'anydoubts'): 1, ('if', 'you', 'have', 'anydoubts', 'you'): 1, ('you', 'have', 'anydoubts', 'you', 'can'): 1, ('have', 'anydoubts', 'you', 'can', 'always'): 1, ('anydoubts', 'you', 'can', 'always', 'reach'): 1, ('you', 'can', 'always', 'reach', 'out'): 1, ('can', 'always', 'reach', 'out', 'to'): 1, ('always', 'reach', 'out', 'to', 'me'): 1})\n"
          ],
          "name": "stdout"
        }
      ]
    },
    {
      "cell_type": "markdown",
      "metadata": {
        "id": "8ySgKT6tNYua"
      },
      "source": [
        "# Working on Real Movie Review Dataset"
      ]
    },
    {
      "cell_type": "code",
      "metadata": {
        "colab": {
          "base_uri": "https://localhost:8080/",
          "height": 206
        },
        "id": "qBNyqBORomcf",
        "outputId": "b2bdd5fa-248f-44ac-a4b8-6b0dba1d20d9"
      },
      "source": [
        "import pandas as pd\n",
        "text_data = pd.read_csv('movie_review.csv')\n",
        "text_data.head( )"
      ],
      "execution_count": 3,
      "outputs": [
        {
          "output_type": "execute_result",
          "data": {
            "text/html": [
              "<div>\n",
              "<style scoped>\n",
              "    .dataframe tbody tr th:only-of-type {\n",
              "        vertical-align: middle;\n",
              "    }\n",
              "\n",
              "    .dataframe tbody tr th {\n",
              "        vertical-align: top;\n",
              "    }\n",
              "\n",
              "    .dataframe thead th {\n",
              "        text-align: right;\n",
              "    }\n",
              "</style>\n",
              "<table border=\"1\" class=\"dataframe\">\n",
              "  <thead>\n",
              "    <tr style=\"text-align: right;\">\n",
              "      <th></th>\n",
              "      <th>fold_id</th>\n",
              "      <th>cv_tag</th>\n",
              "      <th>html_id</th>\n",
              "      <th>sent_id</th>\n",
              "      <th>text</th>\n",
              "      <th>tag</th>\n",
              "    </tr>\n",
              "  </thead>\n",
              "  <tbody>\n",
              "    <tr>\n",
              "      <th>0</th>\n",
              "      <td>0</td>\n",
              "      <td>cv000</td>\n",
              "      <td>29590</td>\n",
              "      <td>0</td>\n",
              "      <td>films adapted from comic books have had plenty...</td>\n",
              "      <td>pos</td>\n",
              "    </tr>\n",
              "    <tr>\n",
              "      <th>1</th>\n",
              "      <td>0</td>\n",
              "      <td>cv000</td>\n",
              "      <td>29590</td>\n",
              "      <td>1</td>\n",
              "      <td>for starters , it was created by alan moore ( ...</td>\n",
              "      <td>pos</td>\n",
              "    </tr>\n",
              "    <tr>\n",
              "      <th>2</th>\n",
              "      <td>0</td>\n",
              "      <td>cv000</td>\n",
              "      <td>29590</td>\n",
              "      <td>2</td>\n",
              "      <td>to say moore and campbell thoroughly researche...</td>\n",
              "      <td>pos</td>\n",
              "    </tr>\n",
              "    <tr>\n",
              "      <th>3</th>\n",
              "      <td>0</td>\n",
              "      <td>cv000</td>\n",
              "      <td>29590</td>\n",
              "      <td>3</td>\n",
              "      <td>the book ( or \" graphic novel , \" if you will ...</td>\n",
              "      <td>pos</td>\n",
              "    </tr>\n",
              "    <tr>\n",
              "      <th>4</th>\n",
              "      <td>0</td>\n",
              "      <td>cv000</td>\n",
              "      <td>29590</td>\n",
              "      <td>4</td>\n",
              "      <td>in other words , don't dismiss this film becau...</td>\n",
              "      <td>pos</td>\n",
              "    </tr>\n",
              "  </tbody>\n",
              "</table>\n",
              "</div>"
            ],
            "text/plain": [
              "   fold_id cv_tag  ...                                               text  tag\n",
              "0        0  cv000  ...  films adapted from comic books have had plenty...  pos\n",
              "1        0  cv000  ...  for starters , it was created by alan moore ( ...  pos\n",
              "2        0  cv000  ...  to say moore and campbell thoroughly researche...  pos\n",
              "3        0  cv000  ...  the book ( or \" graphic novel , \" if you will ...  pos\n",
              "4        0  cv000  ...  in other words , don't dismiss this film becau...  pos\n",
              "\n",
              "[5 rows x 6 columns]"
            ]
          },
          "metadata": {
            "tags": []
          },
          "execution_count": 3
        }
      ]
    },
    {
      "cell_type": "code",
      "metadata": {
        "id": "Hl-idMOSsio6"
      },
      "source": [
        "import pandas as pd\n",
        "import numpy as np\n",
        "import math\n",
        "import matplotlib.pyplot as plt\n",
        "import re\n",
        "import glob\n",
        "import random\n",
        "import seaborn as sns\n",
        "import string"
      ],
      "execution_count": 4,
      "outputs": []
    },
    {
      "cell_type": "markdown",
      "metadata": {
        "id": "itKWsabGPQhJ"
      },
      "source": [
        "**Data processing **"
      ]
    },
    {
      "cell_type": "code",
      "metadata": {
        "id": "NRzxuKqlsqwu"
      },
      "source": [
        "text_data['clean sentence'] =text_data['text'].str.replace('[{}]'.format(string.punctuation), '')\n",
        "text_data['clean sentence']=text_data['clean sentence'].str.lower()\n",
        "text_data=text_data.head(1000)"
      ],
      "execution_count": 5,
      "outputs": []
    },
    {
      "cell_type": "code",
      "metadata": {
        "colab": {
          "base_uri": "https://localhost:8080/",
          "height": 423
        },
        "id": "KVUKRVQFu9Sh",
        "outputId": "de4772fd-9d97-40cc-c301-1b08d10404ec"
      },
      "source": [
        "text_data[['text','clean sentence']]"
      ],
      "execution_count": 6,
      "outputs": [
        {
          "output_type": "execute_result",
          "data": {
            "text/html": [
              "<div>\n",
              "<style scoped>\n",
              "    .dataframe tbody tr th:only-of-type {\n",
              "        vertical-align: middle;\n",
              "    }\n",
              "\n",
              "    .dataframe tbody tr th {\n",
              "        vertical-align: top;\n",
              "    }\n",
              "\n",
              "    .dataframe thead th {\n",
              "        text-align: right;\n",
              "    }\n",
              "</style>\n",
              "<table border=\"1\" class=\"dataframe\">\n",
              "  <thead>\n",
              "    <tr style=\"text-align: right;\">\n",
              "      <th></th>\n",
              "      <th>text</th>\n",
              "      <th>clean sentence</th>\n",
              "    </tr>\n",
              "  </thead>\n",
              "  <tbody>\n",
              "    <tr>\n",
              "      <th>0</th>\n",
              "      <td>films adapted from comic books have had plenty...</td>\n",
              "      <td>films adapted from comic books have had plenty...</td>\n",
              "    </tr>\n",
              "    <tr>\n",
              "      <th>1</th>\n",
              "      <td>for starters , it was created by alan moore ( ...</td>\n",
              "      <td>for starters  it was created by alan moore  an...</td>\n",
              "    </tr>\n",
              "    <tr>\n",
              "      <th>2</th>\n",
              "      <td>to say moore and campbell thoroughly researche...</td>\n",
              "      <td>to say moore and campbell thoroughly researche...</td>\n",
              "    </tr>\n",
              "    <tr>\n",
              "      <th>3</th>\n",
              "      <td>the book ( or \" graphic novel , \" if you will ...</td>\n",
              "      <td>the book  or  graphic novel   if you will  is ...</td>\n",
              "    </tr>\n",
              "    <tr>\n",
              "      <th>4</th>\n",
              "      <td>in other words , don't dismiss this film becau...</td>\n",
              "      <td>in other words  dont dismiss this film because...</td>\n",
              "    </tr>\n",
              "    <tr>\n",
              "      <th>...</th>\n",
              "      <td>...</td>\n",
              "      <td>...</td>\n",
              "    </tr>\n",
              "    <tr>\n",
              "      <th>995</th>\n",
              "      <td>the bars show that tibbs has not been given a ...</td>\n",
              "      <td>the bars show that tibbs has not been given a ...</td>\n",
              "    </tr>\n",
              "    <tr>\n",
              "      <th>996</th>\n",
              "      <td>this one shot amazes me because it captures a ...</td>\n",
              "      <td>this one shot amazes me because it captures a ...</td>\n",
              "    </tr>\n",
              "    <tr>\n",
              "      <th>997</th>\n",
              "      <td>it perhaps may be the most powerful image i ha...</td>\n",
              "      <td>it perhaps may be the most powerful image i ha...</td>\n",
              "    </tr>\n",
              "    <tr>\n",
              "      <th>998</th>\n",
              "      <td>\" in the heat of the night \" was the first and...</td>\n",
              "      <td>in the heat of the night  was the first and t...</td>\n",
              "    </tr>\n",
              "    <tr>\n",
              "      <th>999</th>\n",
              "      <td>jewison has a very keen style of displaying va...</td>\n",
              "      <td>jewison has a very keen style of displaying va...</td>\n",
              "    </tr>\n",
              "  </tbody>\n",
              "</table>\n",
              "<p>1000 rows × 2 columns</p>\n",
              "</div>"
            ],
            "text/plain": [
              "                                                  text                                     clean sentence\n",
              "0    films adapted from comic books have had plenty...  films adapted from comic books have had plenty...\n",
              "1    for starters , it was created by alan moore ( ...  for starters  it was created by alan moore  an...\n",
              "2    to say moore and campbell thoroughly researche...  to say moore and campbell thoroughly researche...\n",
              "3    the book ( or \" graphic novel , \" if you will ...  the book  or  graphic novel   if you will  is ...\n",
              "4    in other words , don't dismiss this film becau...  in other words  dont dismiss this film because...\n",
              "..                                                 ...                                                ...\n",
              "995  the bars show that tibbs has not been given a ...  the bars show that tibbs has not been given a ...\n",
              "996  this one shot amazes me because it captures a ...  this one shot amazes me because it captures a ...\n",
              "997  it perhaps may be the most powerful image i ha...  it perhaps may be the most powerful image i ha...\n",
              "998  \" in the heat of the night \" was the first and...   in the heat of the night  was the first and t...\n",
              "999  jewison has a very keen style of displaying va...  jewison has a very keen style of displaying va...\n",
              "\n",
              "[1000 rows x 2 columns]"
            ]
          },
          "metadata": {
            "tags": []
          },
          "execution_count": 6
        }
      ]
    },
    {
      "cell_type": "markdown",
      "metadata": {
        "id": "ybuRxN_lSdbq"
      },
      "source": [
        "**Trigram** **Implementation**"
      ]
    },
    {
      "cell_type": "code",
      "metadata": {
        "id": "kVbDdBsyvGN7"
      },
      "source": [
        "from collections import defaultdict\n",
        "from nltk import bigrams, trigrams\n",
        "from collections import Counter\n",
        "\n",
        "model_2 = defaultdict(lambda: defaultdict(lambda: 0))\n",
        "\n",
        "for sentence in text_data['clean sentence']:\n",
        "  #Split the sentence into trigrams inorder to count the frequencies of the trigrams\n",
        "  for w1, w2, w3 in trigrams(sentence.split(), pad_right=True, pad_left=True):\n",
        "    model_2[(w1,w2)][w3] += 1\n"
      ],
      "execution_count": 13,
      "outputs": []
    },
    {
      "cell_type": "code",
      "metadata": {
        "colab": {
          "base_uri": "https://localhost:8080/"
        },
        "id": "XsoZhvba58mZ",
        "outputId": "74d2b7fc-a453-4379-9afb-8a98ffa3c391"
      },
      "source": [
        "model_2['was','created']"
      ],
      "execution_count": 10,
      "outputs": [
        {
          "output_type": "execute_result",
          "data": {
            "text/plain": [
              "defaultdict(<function __main__.<lambda>.<locals>.<lambda>>, {'by': 1})"
            ]
          },
          "metadata": {
            "tags": []
          },
          "execution_count": 10
        }
      ]
    },
    {
      "cell_type": "code",
      "metadata": {
        "colab": {
          "base_uri": "https://localhost:8080/"
        },
        "id": "b5Wa5b8k6tQc",
        "outputId": "bbe91390-d425-4a12-c9ef-5f192f7bf723"
      },
      "source": [
        "print(model_2['it','was']['created'])"
      ],
      "execution_count": 11,
      "outputs": [
        {
          "output_type": "stream",
          "text": [
            "1\n"
          ],
          "name": "stdout"
        }
      ]
    },
    {
      "cell_type": "code",
      "metadata": {
        "id": "YUZwIGQqAZ6a"
      },
      "source": [
        "for w1,w2 in model_2:\n",
        "  total_count = float(sum(model_2[w1,w2].values()))\n",
        "  for w3 in model_2[w1,w2]:\n",
        "   model_2[w1,w2][w3] /=total_count"
      ],
      "execution_count": 14,
      "outputs": []
    },
    {
      "cell_type": "code",
      "metadata": {
        "colab": {
          "base_uri": "https://localhost:8080/"
        },
        "id": "iZm_bWKSKfyK",
        "outputId": "2b7b1b86-0e96-4d1e-eaed-c0f25b6401e3"
      },
      "source": [
        "model_2[('it','was')]"
      ],
      "execution_count": null,
      "outputs": [
        {
          "output_type": "execute_result",
          "data": {
            "text/plain": [
              "defaultdict(<function __main__.<lambda>.<locals>.<lambda>>,\n",
              "            {'also': 0.1111111111111111,\n",
              "             'based': 0.1111111111111111,\n",
              "             'created': 0.1111111111111111,\n",
              "             'interesting': 0.1111111111111111,\n",
              "             'nothing': 0.1111111111111111,\n",
              "             'schreber': 0.1111111111111111,\n",
              "             'too': 0.1111111111111111,\n",
              "             'unceremoniously': 0.1111111111111111,\n",
              "             'very': 0.1111111111111111})"
            ]
          },
          "metadata": {
            "tags": []
          },
          "execution_count": 71
        }
      ]
    },
    {
      "cell_type": "code",
      "metadata": {
        "id": "zx7Ld2dRK2yg"
      },
      "source": [
        ""
      ],
      "execution_count": null,
      "outputs": []
    }
  ]
}