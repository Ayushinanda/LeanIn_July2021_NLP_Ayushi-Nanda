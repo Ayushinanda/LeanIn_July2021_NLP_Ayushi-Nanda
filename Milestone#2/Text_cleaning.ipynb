{
  "nbformat": 4,
  "nbformat_minor": 0,
  "metadata": {
    "colab": {
      "name": "Copy of Copy of LeanIn_NLP_Parsing.ipynb",
      "provenance": [],
      "collapsed_sections": []
    },
    "kernelspec": {
      "name": "python3",
      "display_name": "Python 3"
    }
  },
  "cells": [
    {
      "cell_type": "markdown",
      "metadata": {
        "id": "BKpbruQw_z8S"
      },
      "source": [
        "# ***TEXT CLEANING***"
      ]
    },
    {
      "cell_type": "code",
      "metadata": {
        "colab": {
          "base_uri": "https://localhost:8080/"
        },
        "id": "KAgQjpNCrR8k",
        "outputId": "2929bf90-c903-4b73-a21f-5c7cc6bb27a8"
      },
      "source": [
        "import re\n",
        "import matplotlib\n",
        "import numpy as np\n",
        "import matplotlib.pyplot as plt\n",
        "import pandas as pd\n",
        "import string\n",
        "\n",
        "from nltk.corpus import stopwords\n",
        "import nltk\n",
        "import numba\n",
        "from numba import jit\n",
        "\n",
        "nltk.download('stopwords')\n",
        "nltk.download('punkt')\n",
        "nltk.download('averaged_perceptron_tagger')"
      ],
      "execution_count": 1,
      "outputs": [
        {
          "output_type": "stream",
          "text": [
            "[nltk_data] Downloading package stopwords to /root/nltk_data...\n",
            "[nltk_data]   Unzipping corpora/stopwords.zip.\n",
            "[nltk_data] Downloading package punkt to /root/nltk_data...\n",
            "[nltk_data]   Unzipping tokenizers/punkt.zip.\n",
            "[nltk_data] Downloading package averaged_perceptron_tagger to\n",
            "[nltk_data]     /root/nltk_data...\n",
            "[nltk_data]   Unzipping taggers/averaged_perceptron_tagger.zip.\n"
          ],
          "name": "stdout"
        },
        {
          "output_type": "execute_result",
          "data": {
            "text/plain": [
              "True"
            ]
          },
          "metadata": {
            "tags": []
          },
          "execution_count": 1
        }
      ]
    },
    {
      "cell_type": "code",
      "metadata": {
        "colab": {
          "base_uri": "https://localhost:8080/"
        },
        "id": "bhj5eQGqrs5R",
        "outputId": "6b494623-3c7e-447c-a7c4-cf7d64b9e0cb"
      },
      "source": [
        "!unzip english_dataset.zip\n",
        "!rm -rf english_dataset.zip"
      ],
      "execution_count": 11,
      "outputs": [
        {
          "output_type": "stream",
          "text": [
            "unzip:  cannot find or open english_dataset.zip, english_dataset.zip.zip or english_dataset.zip.ZIP.\n"
          ],
          "name": "stdout"
        }
      ]
    },
    {
      "cell_type": "markdown",
      "metadata": {
        "id": "Xq09FpIgogk4"
      },
      "source": [
        "# Converting to lower case and upper case "
      ]
    },
    {
      "cell_type": "code",
      "metadata": {
        "id": "JfhI6aXE1PAV",
        "colab": {
          "base_uri": "https://localhost:8080/",
          "height": 363
        },
        "outputId": "ed74e303-ee9c-422d-d30f-bca03015b8cb"
      },
      "source": [
        "\n",
        "import csv\n",
        "data = pd.read_csv('english_dataset/english_dataset.tsv', sep='\\t')\n",
        "data_2=pd.read_csv('english_dataset/hasoc2019_en_test-2919.tsv',sep='\\t')\n",
        "data = pd.concat([data, data_2], ignore_index=True, sort=False)\n",
        "\n",
        "for row in data:\n",
        "  data[row]=data[row].str.upper()\n",
        "data.head(10)"
      ],
      "execution_count": 17,
      "outputs": [
        {
          "output_type": "execute_result",
          "data": {
            "text/html": [
              "<div>\n",
              "<style scoped>\n",
              "    .dataframe tbody tr th:only-of-type {\n",
              "        vertical-align: middle;\n",
              "    }\n",
              "\n",
              "    .dataframe tbody tr th {\n",
              "        vertical-align: top;\n",
              "    }\n",
              "\n",
              "    .dataframe thead th {\n",
              "        text-align: right;\n",
              "    }\n",
              "</style>\n",
              "<table border=\"1\" class=\"dataframe\">\n",
              "  <thead>\n",
              "    <tr style=\"text-align: right;\">\n",
              "      <th></th>\n",
              "      <th>text_id</th>\n",
              "      <th>text</th>\n",
              "      <th>task_1</th>\n",
              "      <th>task_2</th>\n",
              "      <th>task_3</th>\n",
              "    </tr>\n",
              "  </thead>\n",
              "  <tbody>\n",
              "    <tr>\n",
              "      <th>0</th>\n",
              "      <td>HASOC_EN_1</td>\n",
              "      <td>#DHONIKEEPSTHEGLOVE | WATCH: SPORTS MINISTER K...</td>\n",
              "      <td>NOT</td>\n",
              "      <td>NONE</td>\n",
              "      <td>NONE</td>\n",
              "    </tr>\n",
              "    <tr>\n",
              "      <th>1</th>\n",
              "      <td>HASOC_EN_2</td>\n",
              "      <td>@POLITICO NO. WE SHOULD REMEMBER VERY CLEARLY ...</td>\n",
              "      <td>HOF</td>\n",
              "      <td>HATE</td>\n",
              "      <td>TIN</td>\n",
              "    </tr>\n",
              "    <tr>\n",
              "      <th>2</th>\n",
              "      <td>HASOC_EN_3</td>\n",
              "      <td>@CRICKETWORLDCUP GUESS WHO WOULD BE THE WINNER...</td>\n",
              "      <td>NOT</td>\n",
              "      <td>NONE</td>\n",
              "      <td>NONE</td>\n",
              "    </tr>\n",
              "    <tr>\n",
              "      <th>3</th>\n",
              "      <td>HASOC_EN_4</td>\n",
              "      <td>CORBYN IS TOO POLITICALLY INTELLECTUAL FOR #BO...</td>\n",
              "      <td>NOT</td>\n",
              "      <td>NONE</td>\n",
              "      <td>NONE</td>\n",
              "    </tr>\n",
              "    <tr>\n",
              "      <th>4</th>\n",
              "      <td>HASOC_EN_5</td>\n",
              "      <td>ALL THE BEST TO #TEAMINDIA FOR ANOTHER SWIMMIN...</td>\n",
              "      <td>NOT</td>\n",
              "      <td>NONE</td>\n",
              "      <td>NONE</td>\n",
              "    </tr>\n",
              "    <tr>\n",
              "      <th>5</th>\n",
              "      <td>HASOC_EN_6</td>\n",
              "      <td>@KELLYMILLER513 @THEREALOJ32 I HOPE YOU REMEMB...</td>\n",
              "      <td>NOT</td>\n",
              "      <td>NONE</td>\n",
              "      <td>NONE</td>\n",
              "    </tr>\n",
              "    <tr>\n",
              "      <th>6</th>\n",
              "      <td>HASOC_EN_7</td>\n",
              "      <td>@ICC LATEST DESIGN OF #WC2019 TROPHY. #CWC2019...</td>\n",
              "      <td>NOT</td>\n",
              "      <td>NONE</td>\n",
              "      <td>NONE</td>\n",
              "    </tr>\n",
              "    <tr>\n",
              "      <th>7</th>\n",
              "      <td>HASOC_EN_8</td>\n",
              "      <td>#ADOS #TRENDINGNOW #BLACKLIVESMATTER #JUSTICE ...</td>\n",
              "      <td>HOF</td>\n",
              "      <td>PRFN</td>\n",
              "      <td>TIN</td>\n",
              "    </tr>\n",
              "    <tr>\n",
              "      <th>8</th>\n",
              "      <td>HASOC_EN_9</td>\n",
              "      <td>THANKS FOR YOUR SUPPORT! WOW 600K. GRAFFITI HA...</td>\n",
              "      <td>NOT</td>\n",
              "      <td>NONE</td>\n",
              "      <td>NONE</td>\n",
              "    </tr>\n",
              "    <tr>\n",
              "      <th>9</th>\n",
              "      <td>HASOC_EN_10</td>\n",
              "      <td>BY WEARING THE #BALIDAANBADGE OVER HIS GLOVES ...</td>\n",
              "      <td>NOT</td>\n",
              "      <td>NONE</td>\n",
              "      <td>NONE</td>\n",
              "    </tr>\n",
              "  </tbody>\n",
              "</table>\n",
              "</div>"
            ],
            "text/plain": [
              "       text_id                                               text  ... task_2 task_3\n",
              "0   HASOC_EN_1  #DHONIKEEPSTHEGLOVE | WATCH: SPORTS MINISTER K...  ...   NONE   NONE\n",
              "1   HASOC_EN_2  @POLITICO NO. WE SHOULD REMEMBER VERY CLEARLY ...  ...   HATE    TIN\n",
              "2   HASOC_EN_3  @CRICKETWORLDCUP GUESS WHO WOULD BE THE WINNER...  ...   NONE   NONE\n",
              "3   HASOC_EN_4  CORBYN IS TOO POLITICALLY INTELLECTUAL FOR #BO...  ...   NONE   NONE\n",
              "4   HASOC_EN_5  ALL THE BEST TO #TEAMINDIA FOR ANOTHER SWIMMIN...  ...   NONE   NONE\n",
              "5   HASOC_EN_6  @KELLYMILLER513 @THEREALOJ32 I HOPE YOU REMEMB...  ...   NONE   NONE\n",
              "6   HASOC_EN_7  @ICC LATEST DESIGN OF #WC2019 TROPHY. #CWC2019...  ...   NONE   NONE\n",
              "7   HASOC_EN_8  #ADOS #TRENDINGNOW #BLACKLIVESMATTER #JUSTICE ...  ...   PRFN    TIN\n",
              "8   HASOC_EN_9  THANKS FOR YOUR SUPPORT! WOW 600K. GRAFFITI HA...  ...   NONE   NONE\n",
              "9  HASOC_EN_10  BY WEARING THE #BALIDAANBADGE OVER HIS GLOVES ...  ...   NONE   NONE\n",
              "\n",
              "[10 rows x 5 columns]"
            ]
          },
          "metadata": {
            "tags": []
          },
          "execution_count": 17
        }
      ]
    },
    {
      "cell_type": "code",
      "metadata": {
        "colab": {
          "base_uri": "https://localhost:8080/",
          "height": 206
        },
        "id": "oeH-O-Vxo3Cf",
        "outputId": "d1e5d588-1234-4d34-adae-fdf67d6405b0"
      },
      "source": [
        "for row in data:\n",
        "  data[row]=data[row].str.lower()\n",
        "data.head()"
      ],
      "execution_count": 18,
      "outputs": [
        {
          "output_type": "execute_result",
          "data": {
            "text/html": [
              "<div>\n",
              "<style scoped>\n",
              "    .dataframe tbody tr th:only-of-type {\n",
              "        vertical-align: middle;\n",
              "    }\n",
              "\n",
              "    .dataframe tbody tr th {\n",
              "        vertical-align: top;\n",
              "    }\n",
              "\n",
              "    .dataframe thead th {\n",
              "        text-align: right;\n",
              "    }\n",
              "</style>\n",
              "<table border=\"1\" class=\"dataframe\">\n",
              "  <thead>\n",
              "    <tr style=\"text-align: right;\">\n",
              "      <th></th>\n",
              "      <th>text_id</th>\n",
              "      <th>text</th>\n",
              "      <th>task_1</th>\n",
              "      <th>task_2</th>\n",
              "      <th>task_3</th>\n",
              "    </tr>\n",
              "  </thead>\n",
              "  <tbody>\n",
              "    <tr>\n",
              "      <th>0</th>\n",
              "      <td>hasoc_en_1</td>\n",
              "      <td>#dhonikeepstheglove | watch: sports minister k...</td>\n",
              "      <td>not</td>\n",
              "      <td>none</td>\n",
              "      <td>none</td>\n",
              "    </tr>\n",
              "    <tr>\n",
              "      <th>1</th>\n",
              "      <td>hasoc_en_2</td>\n",
              "      <td>@politico no. we should remember very clearly ...</td>\n",
              "      <td>hof</td>\n",
              "      <td>hate</td>\n",
              "      <td>tin</td>\n",
              "    </tr>\n",
              "    <tr>\n",
              "      <th>2</th>\n",
              "      <td>hasoc_en_3</td>\n",
              "      <td>@cricketworldcup guess who would be the winner...</td>\n",
              "      <td>not</td>\n",
              "      <td>none</td>\n",
              "      <td>none</td>\n",
              "    </tr>\n",
              "    <tr>\n",
              "      <th>3</th>\n",
              "      <td>hasoc_en_4</td>\n",
              "      <td>corbyn is too politically intellectual for #bo...</td>\n",
              "      <td>not</td>\n",
              "      <td>none</td>\n",
              "      <td>none</td>\n",
              "    </tr>\n",
              "    <tr>\n",
              "      <th>4</th>\n",
              "      <td>hasoc_en_5</td>\n",
              "      <td>all the best to #teamindia for another swimmin...</td>\n",
              "      <td>not</td>\n",
              "      <td>none</td>\n",
              "      <td>none</td>\n",
              "    </tr>\n",
              "  </tbody>\n",
              "</table>\n",
              "</div>"
            ],
            "text/plain": [
              "      text_id                                               text  ... task_2 task_3\n",
              "0  hasoc_en_1  #dhonikeepstheglove | watch: sports minister k...  ...   none   none\n",
              "1  hasoc_en_2  @politico no. we should remember very clearly ...  ...   hate    tin\n",
              "2  hasoc_en_3  @cricketworldcup guess who would be the winner...  ...   none   none\n",
              "3  hasoc_en_4  corbyn is too politically intellectual for #bo...  ...   none   none\n",
              "4  hasoc_en_5  all the best to #teamindia for another swimmin...  ...   none   none\n",
              "\n",
              "[5 rows x 5 columns]"
            ]
          },
          "metadata": {
            "tags": []
          },
          "execution_count": 18
        }
      ]
    },
    {
      "cell_type": "markdown",
      "metadata": {
        "id": "oXqHjn2OQdOD"
      },
      "source": [
        "# Removing numbers"
      ]
    },
    {
      "cell_type": "code",
      "metadata": {
        "colab": {
          "base_uri": "https://localhost:8080/",
          "height": 206
        },
        "id": "XhC1rXexQcv2",
        "outputId": "7d3cbd1a-f025-4a9f-89b4-54206fbab45b"
      },
      "source": [
        "for row in data:\n",
        "  data[row]=data[row].str.replace('\\d+','')\n",
        "data.head()"
      ],
      "execution_count": 19,
      "outputs": [
        {
          "output_type": "execute_result",
          "data": {
            "text/html": [
              "<div>\n",
              "<style scoped>\n",
              "    .dataframe tbody tr th:only-of-type {\n",
              "        vertical-align: middle;\n",
              "    }\n",
              "\n",
              "    .dataframe tbody tr th {\n",
              "        vertical-align: top;\n",
              "    }\n",
              "\n",
              "    .dataframe thead th {\n",
              "        text-align: right;\n",
              "    }\n",
              "</style>\n",
              "<table border=\"1\" class=\"dataframe\">\n",
              "  <thead>\n",
              "    <tr style=\"text-align: right;\">\n",
              "      <th></th>\n",
              "      <th>text_id</th>\n",
              "      <th>text</th>\n",
              "      <th>task_1</th>\n",
              "      <th>task_2</th>\n",
              "      <th>task_3</th>\n",
              "    </tr>\n",
              "  </thead>\n",
              "  <tbody>\n",
              "    <tr>\n",
              "      <th>0</th>\n",
              "      <td>hasoc_en_</td>\n",
              "      <td>#dhonikeepstheglove | watch: sports minister k...</td>\n",
              "      <td>not</td>\n",
              "      <td>none</td>\n",
              "      <td>none</td>\n",
              "    </tr>\n",
              "    <tr>\n",
              "      <th>1</th>\n",
              "      <td>hasoc_en_</td>\n",
              "      <td>@politico no. we should remember very clearly ...</td>\n",
              "      <td>hof</td>\n",
              "      <td>hate</td>\n",
              "      <td>tin</td>\n",
              "    </tr>\n",
              "    <tr>\n",
              "      <th>2</th>\n",
              "      <td>hasoc_en_</td>\n",
              "      <td>@cricketworldcup guess who would be the winner...</td>\n",
              "      <td>not</td>\n",
              "      <td>none</td>\n",
              "      <td>none</td>\n",
              "    </tr>\n",
              "    <tr>\n",
              "      <th>3</th>\n",
              "      <td>hasoc_en_</td>\n",
              "      <td>corbyn is too politically intellectual for #bo...</td>\n",
              "      <td>not</td>\n",
              "      <td>none</td>\n",
              "      <td>none</td>\n",
              "    </tr>\n",
              "    <tr>\n",
              "      <th>4</th>\n",
              "      <td>hasoc_en_</td>\n",
              "      <td>all the best to #teamindia for another swimmin...</td>\n",
              "      <td>not</td>\n",
              "      <td>none</td>\n",
              "      <td>none</td>\n",
              "    </tr>\n",
              "  </tbody>\n",
              "</table>\n",
              "</div>"
            ],
            "text/plain": [
              "     text_id                                               text  ... task_2 task_3\n",
              "0  hasoc_en_  #dhonikeepstheglove | watch: sports minister k...  ...   none   none\n",
              "1  hasoc_en_  @politico no. we should remember very clearly ...  ...   hate    tin\n",
              "2  hasoc_en_  @cricketworldcup guess who would be the winner...  ...   none   none\n",
              "3  hasoc_en_  corbyn is too politically intellectual for #bo...  ...   none   none\n",
              "4  hasoc_en_  all the best to #teamindia for another swimmin...  ...   none   none\n",
              "\n",
              "[5 rows x 5 columns]"
            ]
          },
          "metadata": {
            "tags": []
          },
          "execution_count": 19
        }
      ]
    },
    {
      "cell_type": "markdown",
      "metadata": {
        "id": "OAdgZCNOw6bx"
      },
      "source": [
        "# Removing punctuations"
      ]
    },
    {
      "cell_type": "code",
      "metadata": {
        "colab": {
          "base_uri": "https://localhost:8080/",
          "height": 206
        },
        "id": "2bzrUuOqxG5E",
        "outputId": "4c132b52-3a18-4fcf-befe-45846efd83f6"
      },
      "source": [
        "for row in data:\n",
        " data[row]=data[row].str.replace('[^\\w\\s]','')\n",
        "data.head()"
      ],
      "execution_count": 20,
      "outputs": [
        {
          "output_type": "execute_result",
          "data": {
            "text/html": [
              "<div>\n",
              "<style scoped>\n",
              "    .dataframe tbody tr th:only-of-type {\n",
              "        vertical-align: middle;\n",
              "    }\n",
              "\n",
              "    .dataframe tbody tr th {\n",
              "        vertical-align: top;\n",
              "    }\n",
              "\n",
              "    .dataframe thead th {\n",
              "        text-align: right;\n",
              "    }\n",
              "</style>\n",
              "<table border=\"1\" class=\"dataframe\">\n",
              "  <thead>\n",
              "    <tr style=\"text-align: right;\">\n",
              "      <th></th>\n",
              "      <th>text_id</th>\n",
              "      <th>text</th>\n",
              "      <th>task_1</th>\n",
              "      <th>task_2</th>\n",
              "      <th>task_3</th>\n",
              "    </tr>\n",
              "  </thead>\n",
              "  <tbody>\n",
              "    <tr>\n",
              "      <th>0</th>\n",
              "      <td>hasoc_en_</td>\n",
              "      <td>dhonikeepstheglove  watch sports minister kire...</td>\n",
              "      <td>not</td>\n",
              "      <td>none</td>\n",
              "      <td>none</td>\n",
              "    </tr>\n",
              "    <tr>\n",
              "      <th>1</th>\n",
              "      <td>hasoc_en_</td>\n",
              "      <td>politico no we should remember very clearly th...</td>\n",
              "      <td>hof</td>\n",
              "      <td>hate</td>\n",
              "      <td>tin</td>\n",
              "    </tr>\n",
              "    <tr>\n",
              "      <th>2</th>\n",
              "      <td>hasoc_en_</td>\n",
              "      <td>cricketworldcup guess who would be the winner ...</td>\n",
              "      <td>not</td>\n",
              "      <td>none</td>\n",
              "      <td>none</td>\n",
              "    </tr>\n",
              "    <tr>\n",
              "      <th>3</th>\n",
              "      <td>hasoc_en_</td>\n",
              "      <td>corbyn is too politically intellectual for bor...</td>\n",
              "      <td>not</td>\n",
              "      <td>none</td>\n",
              "      <td>none</td>\n",
              "    </tr>\n",
              "    <tr>\n",
              "      <th>4</th>\n",
              "      <td>hasoc_en_</td>\n",
              "      <td>all the best to teamindia for another swimming...</td>\n",
              "      <td>not</td>\n",
              "      <td>none</td>\n",
              "      <td>none</td>\n",
              "    </tr>\n",
              "  </tbody>\n",
              "</table>\n",
              "</div>"
            ],
            "text/plain": [
              "     text_id                                               text  ... task_2 task_3\n",
              "0  hasoc_en_  dhonikeepstheglove  watch sports minister kire...  ...   none   none\n",
              "1  hasoc_en_  politico no we should remember very clearly th...  ...   hate    tin\n",
              "2  hasoc_en_  cricketworldcup guess who would be the winner ...  ...   none   none\n",
              "3  hasoc_en_  corbyn is too politically intellectual for bor...  ...   none   none\n",
              "4  hasoc_en_  all the best to teamindia for another swimming...  ...   none   none\n",
              "\n",
              "[5 rows x 5 columns]"
            ]
          },
          "metadata": {
            "tags": []
          },
          "execution_count": 20
        }
      ]
    },
    {
      "cell_type": "markdown",
      "metadata": {
        "id": "pfuvWNkTz6uk"
      },
      "source": [
        "# Removing stopwords"
      ]
    },
    {
      "cell_type": "code",
      "metadata": {
        "id": "gL0C_EDRitX_",
        "colab": {
          "base_uri": "https://localhost:8080/",
          "height": 206
        },
        "outputId": "25e4c612-d4f7-442a-d7c9-3997e08e9f1f"
      },
      "source": [
        "stop =stopwords.words('english')\n",
        "#data=pd.DataFrame(data)\n",
        "for row in data:\n",
        " data[row]=data[row].apply(lambda x: ' '.join([word for word in x.split() if word not in (stop)]))\n",
        "data.head()"
      ],
      "execution_count": 21,
      "outputs": [
        {
          "output_type": "execute_result",
          "data": {
            "text/html": [
              "<div>\n",
              "<style scoped>\n",
              "    .dataframe tbody tr th:only-of-type {\n",
              "        vertical-align: middle;\n",
              "    }\n",
              "\n",
              "    .dataframe tbody tr th {\n",
              "        vertical-align: top;\n",
              "    }\n",
              "\n",
              "    .dataframe thead th {\n",
              "        text-align: right;\n",
              "    }\n",
              "</style>\n",
              "<table border=\"1\" class=\"dataframe\">\n",
              "  <thead>\n",
              "    <tr style=\"text-align: right;\">\n",
              "      <th></th>\n",
              "      <th>text_id</th>\n",
              "      <th>text</th>\n",
              "      <th>task_1</th>\n",
              "      <th>task_2</th>\n",
              "      <th>task_3</th>\n",
              "    </tr>\n",
              "  </thead>\n",
              "  <tbody>\n",
              "    <tr>\n",
              "      <th>0</th>\n",
              "      <td>hasoc_en_</td>\n",
              "      <td>dhonikeepstheglove watch sports minister kiren...</td>\n",
              "      <td></td>\n",
              "      <td>none</td>\n",
              "      <td>none</td>\n",
              "    </tr>\n",
              "    <tr>\n",
              "      <th>1</th>\n",
              "      <td>hasoc_en_</td>\n",
              "      <td>politico remember clearly individual admitted ...</td>\n",
              "      <td>hof</td>\n",
              "      <td>hate</td>\n",
              "      <td>tin</td>\n",
              "    </tr>\n",
              "    <tr>\n",
              "      <th>2</th>\n",
              "      <td>hasoc_en_</td>\n",
              "      <td>cricketworldcup guess would winner cwc team ge...</td>\n",
              "      <td></td>\n",
              "      <td>none</td>\n",
              "      <td>none</td>\n",
              "    </tr>\n",
              "    <tr>\n",
              "      <th>3</th>\n",
              "      <td>hasoc_en_</td>\n",
              "      <td>corbyn politically intellectual borisjohnsonsh...</td>\n",
              "      <td></td>\n",
              "      <td>none</td>\n",
              "      <td>none</td>\n",
              "    </tr>\n",
              "    <tr>\n",
              "      <th>4</th>\n",
              "      <td>hasoc_en_</td>\n",
              "      <td>best teamindia another swimming competition su...</td>\n",
              "      <td></td>\n",
              "      <td>none</td>\n",
              "      <td>none</td>\n",
              "    </tr>\n",
              "  </tbody>\n",
              "</table>\n",
              "</div>"
            ],
            "text/plain": [
              "     text_id                                               text  ... task_2 task_3\n",
              "0  hasoc_en_  dhonikeepstheglove watch sports minister kiren...  ...   none   none\n",
              "1  hasoc_en_  politico remember clearly individual admitted ...  ...   hate    tin\n",
              "2  hasoc_en_  cricketworldcup guess would winner cwc team ge...  ...   none   none\n",
              "3  hasoc_en_  corbyn politically intellectual borisjohnsonsh...  ...   none   none\n",
              "4  hasoc_en_  best teamindia another swimming competition su...  ...   none   none\n",
              "\n",
              "[5 rows x 5 columns]"
            ]
          },
          "metadata": {
            "tags": []
          },
          "execution_count": 21
        }
      ]
    },
    {
      "cell_type": "markdown",
      "metadata": {
        "id": "bvzD6VvO7mFH"
      },
      "source": [
        "#Removing white space"
      ]
    },
    {
      "cell_type": "code",
      "metadata": {
        "colab": {
          "base_uri": "https://localhost:8080/",
          "height": 206
        },
        "id": "GEgZFV1C7sVu",
        "outputId": "7257e695-2bcd-4188-99eb-3a320173d8b4"
      },
      "source": [
        "for row in data:\n",
        " data[row]=data[row].str.replace(' ','')\n",
        "data.head()"
      ],
      "execution_count": 22,
      "outputs": [
        {
          "output_type": "execute_result",
          "data": {
            "text/html": [
              "<div>\n",
              "<style scoped>\n",
              "    .dataframe tbody tr th:only-of-type {\n",
              "        vertical-align: middle;\n",
              "    }\n",
              "\n",
              "    .dataframe tbody tr th {\n",
              "        vertical-align: top;\n",
              "    }\n",
              "\n",
              "    .dataframe thead th {\n",
              "        text-align: right;\n",
              "    }\n",
              "</style>\n",
              "<table border=\"1\" class=\"dataframe\">\n",
              "  <thead>\n",
              "    <tr style=\"text-align: right;\">\n",
              "      <th></th>\n",
              "      <th>text_id</th>\n",
              "      <th>text</th>\n",
              "      <th>task_1</th>\n",
              "      <th>task_2</th>\n",
              "      <th>task_3</th>\n",
              "    </tr>\n",
              "  </thead>\n",
              "  <tbody>\n",
              "    <tr>\n",
              "      <th>0</th>\n",
              "      <td>hasoc_en_</td>\n",
              "      <td>dhonikeepstheglovewatchsportsministerkirenriji...</td>\n",
              "      <td></td>\n",
              "      <td>none</td>\n",
              "      <td>none</td>\n",
              "    </tr>\n",
              "    <tr>\n",
              "      <th>1</th>\n",
              "      <td>hasoc_en_</td>\n",
              "      <td>politicorememberclearlyindividualadmittedtreas...</td>\n",
              "      <td>hof</td>\n",
              "      <td>hate</td>\n",
              "      <td>tin</td>\n",
              "    </tr>\n",
              "    <tr>\n",
              "      <th>2</th>\n",
              "      <td>hasoc_en_</td>\n",
              "      <td>cricketworldcupguesswouldwinnercwcteamgetsmaxi...</td>\n",
              "      <td></td>\n",
              "      <td>none</td>\n",
              "      <td>none</td>\n",
              "    </tr>\n",
              "    <tr>\n",
              "      <th>3</th>\n",
              "      <td>hasoc_en_</td>\n",
              "      <td>corbynpoliticallyintellectualborisjohnsonshoul...</td>\n",
              "      <td></td>\n",
              "      <td>none</td>\n",
              "      <td>none</td>\n",
              "    </tr>\n",
              "    <tr>\n",
              "      <th>4</th>\n",
              "      <td>hasoc_en_</td>\n",
              "      <td>bestteamindiaanotherswimmingcompetitionsundayp...</td>\n",
              "      <td></td>\n",
              "      <td>none</td>\n",
              "      <td>none</td>\n",
              "    </tr>\n",
              "  </tbody>\n",
              "</table>\n",
              "</div>"
            ],
            "text/plain": [
              "     text_id                                               text  ... task_2 task_3\n",
              "0  hasoc_en_  dhonikeepstheglovewatchsportsministerkirenriji...  ...   none   none\n",
              "1  hasoc_en_  politicorememberclearlyindividualadmittedtreas...  ...   hate    tin\n",
              "2  hasoc_en_  cricketworldcupguesswouldwinnercwcteamgetsmaxi...  ...   none   none\n",
              "3  hasoc_en_  corbynpoliticallyintellectualborisjohnsonshoul...  ...   none   none\n",
              "4  hasoc_en_  bestteamindiaanotherswimmingcompetitionsundayp...  ...   none   none\n",
              "\n",
              "[5 rows x 5 columns]"
            ]
          },
          "metadata": {
            "tags": []
          },
          "execution_count": 22
        }
      ]
    }
  ]
}